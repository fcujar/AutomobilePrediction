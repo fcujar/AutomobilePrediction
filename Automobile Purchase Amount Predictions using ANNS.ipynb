{
 "cells": [
  {
   "cell_type": "markdown",
   "metadata": {},
   "source": [
    "# Problem Statement"
   ]
  },
  {
   "cell_type": "markdown",
   "metadata": {},
   "source": [
    "Features\n",
    "<hr>\n",
    "\n",
    "<li> Customer Name\n",
    "<li> Customer email\n",
    "<li> Country\n",
    "<li> Age\n",
    "<li> Annual Salary\n",
    "<li> Credit Card Debt\n",
    "<li> Net Worth  \n",
    "<hr>\n",
    "The model must predict\n",
    "<hr>\n",
    "\n",
    "<li> Car Purchase Amount"
   ]
  },
  {
   "cell_type": "markdown",
   "metadata": {},
   "source": [
    "# Libraries Import"
   ]
  },
  {
   "cell_type": "code",
   "execution_count": 1,
   "metadata": {},
   "outputs": [
    {
     "data": {
      "text/plain": [
       "'Se importan las bibliotecas de Pandas para manejo de Data Frames, Numpy para análisis numérico, Matplotlib y Seaborn para el análisis visual'"
      ]
     },
     "execution_count": 1,
     "metadata": {},
     "output_type": "execute_result"
    }
   ],
   "source": [
    "\"\"\"Se importan las bibliotecas de Pandas para manejo de Data Frames, Numpy para análisis numérico, \\\n",
    "Matplotlib y Seaborn para el análisis visual\"\"\""
   ]
  },
  {
   "cell_type": "code",
   "execution_count": 2,
   "metadata": {},
   "outputs": [],
   "source": [
    "import pandas as pd\n",
    "import numpy as np\n",
    "\n",
    "import matplotlib.pyplot as plt\n",
    "import seaborn as sns"
   ]
  },
  {
   "cell_type": "markdown",
   "metadata": {},
   "source": [
    "# Import Dataset"
   ]
  },
  {
   "cell_type": "code",
   "execution_count": 3,
   "metadata": {},
   "outputs": [
    {
     "data": {
      "text/plain": [
       "'Se importa el dataset con la biblioteca de pandas'"
      ]
     },
     "execution_count": 3,
     "metadata": {},
     "output_type": "execute_result"
    }
   ],
   "source": [
    "\"\"\"Se importa el dataset con la biblioteca de pandas\"\"\""
   ]
  },
  {
   "cell_type": "code",
   "execution_count": 4,
   "metadata": {},
   "outputs": [],
   "source": [
    "car_df = pd.read_csv('Car_Purchasing_Data.csv',encoding='ISO-8859-1')"
   ]
  },
  {
   "cell_type": "code",
   "execution_count": 5,
   "metadata": {},
   "outputs": [
    {
     "data": {
      "text/html": [
       "<div>\n",
       "<style scoped>\n",
       "    .dataframe tbody tr th:only-of-type {\n",
       "        vertical-align: middle;\n",
       "    }\n",
       "\n",
       "    .dataframe tbody tr th {\n",
       "        vertical-align: top;\n",
       "    }\n",
       "\n",
       "    .dataframe thead th {\n",
       "        text-align: right;\n",
       "    }\n",
       "</style>\n",
       "<table border=\"1\" class=\"dataframe\">\n",
       "  <thead>\n",
       "    <tr style=\"text-align: right;\">\n",
       "      <th></th>\n",
       "      <th>Customer Name</th>\n",
       "      <th>Customer e-mail</th>\n",
       "      <th>Country</th>\n",
       "      <th>Gender</th>\n",
       "      <th>Age</th>\n",
       "      <th>Annual Salary</th>\n",
       "      <th>Credit Card Debt</th>\n",
       "      <th>Net Worth</th>\n",
       "      <th>Car Purchase Amount</th>\n",
       "    </tr>\n",
       "  </thead>\n",
       "  <tbody>\n",
       "    <tr>\n",
       "      <td>0</td>\n",
       "      <td>Martina Avila</td>\n",
       "      <td>cubilia.Curae.Phasellus@quisaccumsanconvallis.edu</td>\n",
       "      <td>Bulgaria</td>\n",
       "      <td>0</td>\n",
       "      <td>41.851720</td>\n",
       "      <td>62812.09301</td>\n",
       "      <td>11609.380910</td>\n",
       "      <td>238961.2505</td>\n",
       "      <td>35321.45877</td>\n",
       "    </tr>\n",
       "    <tr>\n",
       "      <td>1</td>\n",
       "      <td>Harlan Barnes</td>\n",
       "      <td>eu.dolor@diam.co.uk</td>\n",
       "      <td>Belize</td>\n",
       "      <td>0</td>\n",
       "      <td>40.870623</td>\n",
       "      <td>66646.89292</td>\n",
       "      <td>9572.957136</td>\n",
       "      <td>530973.9078</td>\n",
       "      <td>45115.52566</td>\n",
       "    </tr>\n",
       "    <tr>\n",
       "      <td>2</td>\n",
       "      <td>Naomi Rodriquez</td>\n",
       "      <td>vulputate.mauris.sagittis@ametconsectetueradip...</td>\n",
       "      <td>Algeria</td>\n",
       "      <td>1</td>\n",
       "      <td>43.152897</td>\n",
       "      <td>53798.55112</td>\n",
       "      <td>11160.355060</td>\n",
       "      <td>638467.1773</td>\n",
       "      <td>42925.70921</td>\n",
       "    </tr>\n",
       "    <tr>\n",
       "      <td>3</td>\n",
       "      <td>Jade Cunningham</td>\n",
       "      <td>malesuada@dignissim.com</td>\n",
       "      <td>Cook Islands</td>\n",
       "      <td>1</td>\n",
       "      <td>58.271369</td>\n",
       "      <td>79370.03798</td>\n",
       "      <td>14426.164850</td>\n",
       "      <td>548599.0524</td>\n",
       "      <td>67422.36313</td>\n",
       "    </tr>\n",
       "    <tr>\n",
       "      <td>4</td>\n",
       "      <td>Cedric Leach</td>\n",
       "      <td>felis.ullamcorper.viverra@egetmollislectus.net</td>\n",
       "      <td>Brazil</td>\n",
       "      <td>1</td>\n",
       "      <td>57.313749</td>\n",
       "      <td>59729.15130</td>\n",
       "      <td>5358.712177</td>\n",
       "      <td>560304.0671</td>\n",
       "      <td>55915.46248</td>\n",
       "    </tr>\n",
       "    <tr>\n",
       "      <td>...</td>\n",
       "      <td>...</td>\n",
       "      <td>...</td>\n",
       "      <td>...</td>\n",
       "      <td>...</td>\n",
       "      <td>...</td>\n",
       "      <td>...</td>\n",
       "      <td>...</td>\n",
       "      <td>...</td>\n",
       "      <td>...</td>\n",
       "    </tr>\n",
       "    <tr>\n",
       "      <td>495</td>\n",
       "      <td>Walter</td>\n",
       "      <td>ligula@Cumsociis.ca</td>\n",
       "      <td>Nepal</td>\n",
       "      <td>0</td>\n",
       "      <td>41.462515</td>\n",
       "      <td>71942.40291</td>\n",
       "      <td>6995.902524</td>\n",
       "      <td>541670.1016</td>\n",
       "      <td>48901.44342</td>\n",
       "    </tr>\n",
       "    <tr>\n",
       "      <td>496</td>\n",
       "      <td>Vanna</td>\n",
       "      <td>Cum.sociis.natoque@Sedmolestie.edu</td>\n",
       "      <td>Zimbabwe</td>\n",
       "      <td>1</td>\n",
       "      <td>37.642000</td>\n",
       "      <td>56039.49793</td>\n",
       "      <td>12301.456790</td>\n",
       "      <td>360419.0988</td>\n",
       "      <td>31491.41457</td>\n",
       "    </tr>\n",
       "    <tr>\n",
       "      <td>497</td>\n",
       "      <td>Pearl</td>\n",
       "      <td>penatibus.et@massanonante.com</td>\n",
       "      <td>Philippines</td>\n",
       "      <td>1</td>\n",
       "      <td>53.943497</td>\n",
       "      <td>68888.77805</td>\n",
       "      <td>10611.606860</td>\n",
       "      <td>764531.3203</td>\n",
       "      <td>64147.28888</td>\n",
       "    </tr>\n",
       "    <tr>\n",
       "      <td>498</td>\n",
       "      <td>Nell</td>\n",
       "      <td>Quisque.varius@arcuVivamussit.net</td>\n",
       "      <td>Botswana</td>\n",
       "      <td>1</td>\n",
       "      <td>59.160509</td>\n",
       "      <td>49811.99062</td>\n",
       "      <td>14013.034510</td>\n",
       "      <td>337826.6382</td>\n",
       "      <td>45442.15353</td>\n",
       "    </tr>\n",
       "    <tr>\n",
       "      <td>499</td>\n",
       "      <td>Marla</td>\n",
       "      <td>Camaron.marla@hotmail.com</td>\n",
       "      <td>marlal</td>\n",
       "      <td>1</td>\n",
       "      <td>46.731152</td>\n",
       "      <td>61370.67766</td>\n",
       "      <td>9391.341628</td>\n",
       "      <td>462946.4924</td>\n",
       "      <td>45107.22566</td>\n",
       "    </tr>\n",
       "  </tbody>\n",
       "</table>\n",
       "<p>500 rows × 9 columns</p>\n",
       "</div>"
      ],
      "text/plain": [
       "       Customer Name                                    Customer e-mail  \\\n",
       "0      Martina Avila  cubilia.Curae.Phasellus@quisaccumsanconvallis.edu   \n",
       "1      Harlan Barnes                                eu.dolor@diam.co.uk   \n",
       "2    Naomi Rodriquez  vulputate.mauris.sagittis@ametconsectetueradip...   \n",
       "3    Jade Cunningham                            malesuada@dignissim.com   \n",
       "4       Cedric Leach     felis.ullamcorper.viverra@egetmollislectus.net   \n",
       "..               ...                                                ...   \n",
       "495           Walter                                ligula@Cumsociis.ca   \n",
       "496            Vanna                 Cum.sociis.natoque@Sedmolestie.edu   \n",
       "497            Pearl                      penatibus.et@massanonante.com   \n",
       "498             Nell                  Quisque.varius@arcuVivamussit.net   \n",
       "499            Marla                          Camaron.marla@hotmail.com   \n",
       "\n",
       "          Country  Gender        Age  Annual Salary  Credit Card Debt  \\\n",
       "0        Bulgaria       0  41.851720    62812.09301      11609.380910   \n",
       "1          Belize       0  40.870623    66646.89292       9572.957136   \n",
       "2         Algeria       1  43.152897    53798.55112      11160.355060   \n",
       "3    Cook Islands       1  58.271369    79370.03798      14426.164850   \n",
       "4          Brazil       1  57.313749    59729.15130       5358.712177   \n",
       "..            ...     ...        ...            ...               ...   \n",
       "495         Nepal       0  41.462515    71942.40291       6995.902524   \n",
       "496      Zimbabwe       1  37.642000    56039.49793      12301.456790   \n",
       "497   Philippines       1  53.943497    68888.77805      10611.606860   \n",
       "498      Botswana       1  59.160509    49811.99062      14013.034510   \n",
       "499        marlal       1  46.731152    61370.67766       9391.341628   \n",
       "\n",
       "       Net Worth  Car Purchase Amount  \n",
       "0    238961.2505          35321.45877  \n",
       "1    530973.9078          45115.52566  \n",
       "2    638467.1773          42925.70921  \n",
       "3    548599.0524          67422.36313  \n",
       "4    560304.0671          55915.46248  \n",
       "..           ...                  ...  \n",
       "495  541670.1016          48901.44342  \n",
       "496  360419.0988          31491.41457  \n",
       "497  764531.3203          64147.28888  \n",
       "498  337826.6382          45442.15353  \n",
       "499  462946.4924          45107.22566  \n",
       "\n",
       "[500 rows x 9 columns]"
      ]
     },
     "execution_count": 5,
     "metadata": {},
     "output_type": "execute_result"
    }
   ],
   "source": [
    "car_df"
   ]
  },
  {
   "cell_type": "code",
   "execution_count": 6,
   "metadata": {
    "scrolled": true
   },
   "outputs": [
    {
     "data": {
      "text/html": [
       "<div>\n",
       "<style scoped>\n",
       "    .dataframe tbody tr th:only-of-type {\n",
       "        vertical-align: middle;\n",
       "    }\n",
       "\n",
       "    .dataframe tbody tr th {\n",
       "        vertical-align: top;\n",
       "    }\n",
       "\n",
       "    .dataframe thead th {\n",
       "        text-align: right;\n",
       "    }\n",
       "</style>\n",
       "<table border=\"1\" class=\"dataframe\">\n",
       "  <thead>\n",
       "    <tr style=\"text-align: right;\">\n",
       "      <th></th>\n",
       "      <th>Customer Name</th>\n",
       "      <th>Customer e-mail</th>\n",
       "      <th>Country</th>\n",
       "      <th>Gender</th>\n",
       "      <th>Age</th>\n",
       "      <th>Annual Salary</th>\n",
       "      <th>Credit Card Debt</th>\n",
       "      <th>Net Worth</th>\n",
       "      <th>Car Purchase Amount</th>\n",
       "    </tr>\n",
       "  </thead>\n",
       "  <tbody>\n",
       "    <tr>\n",
       "      <td>0</td>\n",
       "      <td>Martina Avila</td>\n",
       "      <td>cubilia.Curae.Phasellus@quisaccumsanconvallis.edu</td>\n",
       "      <td>Bulgaria</td>\n",
       "      <td>0</td>\n",
       "      <td>41.851720</td>\n",
       "      <td>62812.09301</td>\n",
       "      <td>11609.380910</td>\n",
       "      <td>238961.2505</td>\n",
       "      <td>35321.45877</td>\n",
       "    </tr>\n",
       "    <tr>\n",
       "      <td>1</td>\n",
       "      <td>Harlan Barnes</td>\n",
       "      <td>eu.dolor@diam.co.uk</td>\n",
       "      <td>Belize</td>\n",
       "      <td>0</td>\n",
       "      <td>40.870623</td>\n",
       "      <td>66646.89292</td>\n",
       "      <td>9572.957136</td>\n",
       "      <td>530973.9078</td>\n",
       "      <td>45115.52566</td>\n",
       "    </tr>\n",
       "    <tr>\n",
       "      <td>2</td>\n",
       "      <td>Naomi Rodriquez</td>\n",
       "      <td>vulputate.mauris.sagittis@ametconsectetueradip...</td>\n",
       "      <td>Algeria</td>\n",
       "      <td>1</td>\n",
       "      <td>43.152897</td>\n",
       "      <td>53798.55112</td>\n",
       "      <td>11160.355060</td>\n",
       "      <td>638467.1773</td>\n",
       "      <td>42925.70921</td>\n",
       "    </tr>\n",
       "    <tr>\n",
       "      <td>3</td>\n",
       "      <td>Jade Cunningham</td>\n",
       "      <td>malesuada@dignissim.com</td>\n",
       "      <td>Cook Islands</td>\n",
       "      <td>1</td>\n",
       "      <td>58.271369</td>\n",
       "      <td>79370.03798</td>\n",
       "      <td>14426.164850</td>\n",
       "      <td>548599.0524</td>\n",
       "      <td>67422.36313</td>\n",
       "    </tr>\n",
       "    <tr>\n",
       "      <td>4</td>\n",
       "      <td>Cedric Leach</td>\n",
       "      <td>felis.ullamcorper.viverra@egetmollislectus.net</td>\n",
       "      <td>Brazil</td>\n",
       "      <td>1</td>\n",
       "      <td>57.313749</td>\n",
       "      <td>59729.15130</td>\n",
       "      <td>5358.712177</td>\n",
       "      <td>560304.0671</td>\n",
       "      <td>55915.46248</td>\n",
       "    </tr>\n",
       "  </tbody>\n",
       "</table>\n",
       "</div>"
      ],
      "text/plain": [
       "     Customer Name                                    Customer e-mail  \\\n",
       "0    Martina Avila  cubilia.Curae.Phasellus@quisaccumsanconvallis.edu   \n",
       "1    Harlan Barnes                                eu.dolor@diam.co.uk   \n",
       "2  Naomi Rodriquez  vulputate.mauris.sagittis@ametconsectetueradip...   \n",
       "3  Jade Cunningham                            malesuada@dignissim.com   \n",
       "4     Cedric Leach     felis.ullamcorper.viverra@egetmollislectus.net   \n",
       "\n",
       "        Country  Gender        Age  Annual Salary  Credit Card Debt  \\\n",
       "0      Bulgaria       0  41.851720    62812.09301      11609.380910   \n",
       "1        Belize       0  40.870623    66646.89292       9572.957136   \n",
       "2       Algeria       1  43.152897    53798.55112      11160.355060   \n",
       "3  Cook Islands       1  58.271369    79370.03798      14426.164850   \n",
       "4        Brazil       1  57.313749    59729.15130       5358.712177   \n",
       "\n",
       "     Net Worth  Car Purchase Amount  \n",
       "0  238961.2505          35321.45877  \n",
       "1  530973.9078          45115.52566  \n",
       "2  638467.1773          42925.70921  \n",
       "3  548599.0524          67422.36313  \n",
       "4  560304.0671          55915.46248  "
      ]
     },
     "execution_count": 6,
     "metadata": {},
     "output_type": "execute_result"
    }
   ],
   "source": [
    "car_df.head(5)"
   ]
  },
  {
   "cell_type": "code",
   "execution_count": 7,
   "metadata": {},
   "outputs": [
    {
     "data": {
      "text/html": [
       "<div>\n",
       "<style scoped>\n",
       "    .dataframe tbody tr th:only-of-type {\n",
       "        vertical-align: middle;\n",
       "    }\n",
       "\n",
       "    .dataframe tbody tr th {\n",
       "        vertical-align: top;\n",
       "    }\n",
       "\n",
       "    .dataframe thead th {\n",
       "        text-align: right;\n",
       "    }\n",
       "</style>\n",
       "<table border=\"1\" class=\"dataframe\">\n",
       "  <thead>\n",
       "    <tr style=\"text-align: right;\">\n",
       "      <th></th>\n",
       "      <th>Customer Name</th>\n",
       "      <th>Customer e-mail</th>\n",
       "      <th>Country</th>\n",
       "      <th>Gender</th>\n",
       "      <th>Age</th>\n",
       "      <th>Annual Salary</th>\n",
       "      <th>Credit Card Debt</th>\n",
       "      <th>Net Worth</th>\n",
       "      <th>Car Purchase Amount</th>\n",
       "    </tr>\n",
       "  </thead>\n",
       "  <tbody>\n",
       "    <tr>\n",
       "      <td>0</td>\n",
       "      <td>Martina Avila</td>\n",
       "      <td>cubilia.Curae.Phasellus@quisaccumsanconvallis.edu</td>\n",
       "      <td>Bulgaria</td>\n",
       "      <td>0</td>\n",
       "      <td>41.851720</td>\n",
       "      <td>62812.09301</td>\n",
       "      <td>11609.380910</td>\n",
       "      <td>238961.2505</td>\n",
       "      <td>35321.45877</td>\n",
       "    </tr>\n",
       "    <tr>\n",
       "      <td>1</td>\n",
       "      <td>Harlan Barnes</td>\n",
       "      <td>eu.dolor@diam.co.uk</td>\n",
       "      <td>Belize</td>\n",
       "      <td>0</td>\n",
       "      <td>40.870623</td>\n",
       "      <td>66646.89292</td>\n",
       "      <td>9572.957136</td>\n",
       "      <td>530973.9078</td>\n",
       "      <td>45115.52566</td>\n",
       "    </tr>\n",
       "    <tr>\n",
       "      <td>2</td>\n",
       "      <td>Naomi Rodriquez</td>\n",
       "      <td>vulputate.mauris.sagittis@ametconsectetueradip...</td>\n",
       "      <td>Algeria</td>\n",
       "      <td>1</td>\n",
       "      <td>43.152897</td>\n",
       "      <td>53798.55112</td>\n",
       "      <td>11160.355060</td>\n",
       "      <td>638467.1773</td>\n",
       "      <td>42925.70921</td>\n",
       "    </tr>\n",
       "    <tr>\n",
       "      <td>3</td>\n",
       "      <td>Jade Cunningham</td>\n",
       "      <td>malesuada@dignissim.com</td>\n",
       "      <td>Cook Islands</td>\n",
       "      <td>1</td>\n",
       "      <td>58.271369</td>\n",
       "      <td>79370.03798</td>\n",
       "      <td>14426.164850</td>\n",
       "      <td>548599.0524</td>\n",
       "      <td>67422.36313</td>\n",
       "    </tr>\n",
       "    <tr>\n",
       "      <td>4</td>\n",
       "      <td>Cedric Leach</td>\n",
       "      <td>felis.ullamcorper.viverra@egetmollislectus.net</td>\n",
       "      <td>Brazil</td>\n",
       "      <td>1</td>\n",
       "      <td>57.313749</td>\n",
       "      <td>59729.15130</td>\n",
       "      <td>5358.712177</td>\n",
       "      <td>560304.0671</td>\n",
       "      <td>55915.46248</td>\n",
       "    </tr>\n",
       "    <tr>\n",
       "      <td>5</td>\n",
       "      <td>Carla Hester</td>\n",
       "      <td>mi@Aliquamerat.edu</td>\n",
       "      <td>Liberia</td>\n",
       "      <td>1</td>\n",
       "      <td>56.824893</td>\n",
       "      <td>68499.85162</td>\n",
       "      <td>14179.472440</td>\n",
       "      <td>428485.3604</td>\n",
       "      <td>56611.99784</td>\n",
       "    </tr>\n",
       "    <tr>\n",
       "      <td>6</td>\n",
       "      <td>Griffin Rivera</td>\n",
       "      <td>vehicula@at.co.uk</td>\n",
       "      <td>Syria</td>\n",
       "      <td>1</td>\n",
       "      <td>46.607315</td>\n",
       "      <td>39814.52200</td>\n",
       "      <td>5958.460188</td>\n",
       "      <td>326373.1812</td>\n",
       "      <td>28925.70549</td>\n",
       "    </tr>\n",
       "    <tr>\n",
       "      <td>7</td>\n",
       "      <td>Orli Casey</td>\n",
       "      <td>nunc.est.mollis@Suspendissetristiqueneque.co.uk</td>\n",
       "      <td>Czech Republic</td>\n",
       "      <td>1</td>\n",
       "      <td>50.193016</td>\n",
       "      <td>51752.23445</td>\n",
       "      <td>10985.696560</td>\n",
       "      <td>629312.4041</td>\n",
       "      <td>47434.98265</td>\n",
       "    </tr>\n",
       "    <tr>\n",
       "      <td>8</td>\n",
       "      <td>Marny Obrien</td>\n",
       "      <td>Phasellus@sedsemegestas.org</td>\n",
       "      <td>Armenia</td>\n",
       "      <td>0</td>\n",
       "      <td>46.584745</td>\n",
       "      <td>58139.25910</td>\n",
       "      <td>3440.823799</td>\n",
       "      <td>630059.0274</td>\n",
       "      <td>48013.61410</td>\n",
       "    </tr>\n",
       "    <tr>\n",
       "      <td>9</td>\n",
       "      <td>Rhonda Chavez</td>\n",
       "      <td>nec@nuncest.com</td>\n",
       "      <td>Somalia</td>\n",
       "      <td>1</td>\n",
       "      <td>43.323782</td>\n",
       "      <td>53457.10132</td>\n",
       "      <td>12884.078680</td>\n",
       "      <td>476643.3544</td>\n",
       "      <td>38189.50601</td>\n",
       "    </tr>\n",
       "    <tr>\n",
       "      <td>10</td>\n",
       "      <td>Jerome Rowe</td>\n",
       "      <td>ipsum.cursus@dui.org</td>\n",
       "      <td>Sint Maarten</td>\n",
       "      <td>1</td>\n",
       "      <td>50.129923</td>\n",
       "      <td>73348.70745</td>\n",
       "      <td>8270.707359</td>\n",
       "      <td>612738.6171</td>\n",
       "      <td>59045.51309</td>\n",
       "    </tr>\n",
       "    <tr>\n",
       "      <td>11</td>\n",
       "      <td>Akeem Gibson</td>\n",
       "      <td>turpis.egestas.Fusce@purus.edu</td>\n",
       "      <td>Greenland</td>\n",
       "      <td>1</td>\n",
       "      <td>53.180158</td>\n",
       "      <td>55421.65733</td>\n",
       "      <td>10014.969290</td>\n",
       "      <td>293862.5123</td>\n",
       "      <td>42288.81046</td>\n",
       "    </tr>\n",
       "    <tr>\n",
       "      <td>12</td>\n",
       "      <td>Quin Smith</td>\n",
       "      <td>nulla@ipsum.edu</td>\n",
       "      <td>Nicaragua</td>\n",
       "      <td>0</td>\n",
       "      <td>44.396494</td>\n",
       "      <td>37336.33830</td>\n",
       "      <td>10218.320920</td>\n",
       "      <td>430907.1673</td>\n",
       "      <td>28700.03340</td>\n",
       "    </tr>\n",
       "    <tr>\n",
       "      <td>13</td>\n",
       "      <td>Tatum Moon</td>\n",
       "      <td>Cras.sed.leo@Seddiamlorem.ca</td>\n",
       "      <td>Palestine, State of</td>\n",
       "      <td>0</td>\n",
       "      <td>48.496515</td>\n",
       "      <td>68304.47298</td>\n",
       "      <td>9466.995128</td>\n",
       "      <td>420322.0702</td>\n",
       "      <td>49258.87571</td>\n",
       "    </tr>\n",
       "    <tr>\n",
       "      <td>14</td>\n",
       "      <td>Sharon Sharpe</td>\n",
       "      <td>eget.metus@aaliquetvel.co.uk</td>\n",
       "      <td>United Arab Emirates</td>\n",
       "      <td>0</td>\n",
       "      <td>55.244866</td>\n",
       "      <td>72776.00382</td>\n",
       "      <td>10597.638140</td>\n",
       "      <td>146344.8965</td>\n",
       "      <td>49510.03356</td>\n",
       "    </tr>\n",
       "    <tr>\n",
       "      <td>15</td>\n",
       "      <td>Thomas Williams</td>\n",
       "      <td>aliquet.molestie@ut.org</td>\n",
       "      <td>Gabon</td>\n",
       "      <td>1</td>\n",
       "      <td>53.289768</td>\n",
       "      <td>64662.30061</td>\n",
       "      <td>11326.034340</td>\n",
       "      <td>481433.4324</td>\n",
       "      <td>53017.26723</td>\n",
       "    </tr>\n",
       "    <tr>\n",
       "      <td>16</td>\n",
       "      <td>Blaine Bender</td>\n",
       "      <td>ultrices.posuere.cubilia@pedenonummyut.net</td>\n",
       "      <td>Tokelau</td>\n",
       "      <td>0</td>\n",
       "      <td>44.742200</td>\n",
       "      <td>63259.87837</td>\n",
       "      <td>11495.549990</td>\n",
       "      <td>370356.2223</td>\n",
       "      <td>41814.72067</td>\n",
       "    </tr>\n",
       "    <tr>\n",
       "      <td>17</td>\n",
       "      <td>Stephen Lindsey</td>\n",
       "      <td>erat.eget.ipsum@tinciduntpede.org</td>\n",
       "      <td>Portugal</td>\n",
       "      <td>1</td>\n",
       "      <td>48.127085</td>\n",
       "      <td>52682.06401</td>\n",
       "      <td>12514.520290</td>\n",
       "      <td>549443.5886</td>\n",
       "      <td>43901.71244</td>\n",
       "    </tr>\n",
       "    <tr>\n",
       "      <td>18</td>\n",
       "      <td>Sloane Mann</td>\n",
       "      <td>at.augue@augue.net</td>\n",
       "      <td>Chad</td>\n",
       "      <td>1</td>\n",
       "      <td>51.853474</td>\n",
       "      <td>54503.14423</td>\n",
       "      <td>7377.820914</td>\n",
       "      <td>431098.9998</td>\n",
       "      <td>44633.99241</td>\n",
       "    </tr>\n",
       "    <tr>\n",
       "      <td>19</td>\n",
       "      <td>Athena Wolf</td>\n",
       "      <td>volutpat.Nulla.facilisis@primis.ca</td>\n",
       "      <td>Iraq</td>\n",
       "      <td>0</td>\n",
       "      <td>58.741842</td>\n",
       "      <td>55368.23716</td>\n",
       "      <td>13272.946470</td>\n",
       "      <td>566022.1306</td>\n",
       "      <td>54827.52403</td>\n",
       "    </tr>\n",
       "  </tbody>\n",
       "</table>\n",
       "</div>"
      ],
      "text/plain": [
       "      Customer Name                                    Customer e-mail  \\\n",
       "0     Martina Avila  cubilia.Curae.Phasellus@quisaccumsanconvallis.edu   \n",
       "1     Harlan Barnes                                eu.dolor@diam.co.uk   \n",
       "2   Naomi Rodriquez  vulputate.mauris.sagittis@ametconsectetueradip...   \n",
       "3   Jade Cunningham                            malesuada@dignissim.com   \n",
       "4      Cedric Leach     felis.ullamcorper.viverra@egetmollislectus.net   \n",
       "5      Carla Hester                                 mi@Aliquamerat.edu   \n",
       "6    Griffin Rivera                                  vehicula@at.co.uk   \n",
       "7        Orli Casey    nunc.est.mollis@Suspendissetristiqueneque.co.uk   \n",
       "8      Marny Obrien                        Phasellus@sedsemegestas.org   \n",
       "9     Rhonda Chavez                                    nec@nuncest.com   \n",
       "10      Jerome Rowe                               ipsum.cursus@dui.org   \n",
       "11     Akeem Gibson                     turpis.egestas.Fusce@purus.edu   \n",
       "12       Quin Smith                                    nulla@ipsum.edu   \n",
       "13       Tatum Moon                       Cras.sed.leo@Seddiamlorem.ca   \n",
       "14    Sharon Sharpe                       eget.metus@aaliquetvel.co.uk   \n",
       "15  Thomas Williams                            aliquet.molestie@ut.org   \n",
       "16    Blaine Bender         ultrices.posuere.cubilia@pedenonummyut.net   \n",
       "17  Stephen Lindsey                  erat.eget.ipsum@tinciduntpede.org   \n",
       "18      Sloane Mann                                 at.augue@augue.net   \n",
       "19      Athena Wolf                 volutpat.Nulla.facilisis@primis.ca   \n",
       "\n",
       "                 Country  Gender        Age  Annual Salary  Credit Card Debt  \\\n",
       "0               Bulgaria       0  41.851720    62812.09301      11609.380910   \n",
       "1                 Belize       0  40.870623    66646.89292       9572.957136   \n",
       "2                Algeria       1  43.152897    53798.55112      11160.355060   \n",
       "3           Cook Islands       1  58.271369    79370.03798      14426.164850   \n",
       "4                 Brazil       1  57.313749    59729.15130       5358.712177   \n",
       "5                Liberia       1  56.824893    68499.85162      14179.472440   \n",
       "6                  Syria       1  46.607315    39814.52200       5958.460188   \n",
       "7         Czech Republic       1  50.193016    51752.23445      10985.696560   \n",
       "8                Armenia       0  46.584745    58139.25910       3440.823799   \n",
       "9                Somalia       1  43.323782    53457.10132      12884.078680   \n",
       "10          Sint Maarten       1  50.129923    73348.70745       8270.707359   \n",
       "11             Greenland       1  53.180158    55421.65733      10014.969290   \n",
       "12             Nicaragua       0  44.396494    37336.33830      10218.320920   \n",
       "13   Palestine, State of       0  48.496515    68304.47298       9466.995128   \n",
       "14  United Arab Emirates       0  55.244866    72776.00382      10597.638140   \n",
       "15                 Gabon       1  53.289768    64662.30061      11326.034340   \n",
       "16               Tokelau       0  44.742200    63259.87837      11495.549990   \n",
       "17              Portugal       1  48.127085    52682.06401      12514.520290   \n",
       "18                  Chad       1  51.853474    54503.14423       7377.820914   \n",
       "19                  Iraq       0  58.741842    55368.23716      13272.946470   \n",
       "\n",
       "      Net Worth  Car Purchase Amount  \n",
       "0   238961.2505          35321.45877  \n",
       "1   530973.9078          45115.52566  \n",
       "2   638467.1773          42925.70921  \n",
       "3   548599.0524          67422.36313  \n",
       "4   560304.0671          55915.46248  \n",
       "5   428485.3604          56611.99784  \n",
       "6   326373.1812          28925.70549  \n",
       "7   629312.4041          47434.98265  \n",
       "8   630059.0274          48013.61410  \n",
       "9   476643.3544          38189.50601  \n",
       "10  612738.6171          59045.51309  \n",
       "11  293862.5123          42288.81046  \n",
       "12  430907.1673          28700.03340  \n",
       "13  420322.0702          49258.87571  \n",
       "14  146344.8965          49510.03356  \n",
       "15  481433.4324          53017.26723  \n",
       "16  370356.2223          41814.72067  \n",
       "17  549443.5886          43901.71244  \n",
       "18  431098.9998          44633.99241  \n",
       "19  566022.1306          54827.52403  "
      ]
     },
     "execution_count": 7,
     "metadata": {},
     "output_type": "execute_result"
    }
   ],
   "source": [
    "car_df.head(20)"
   ]
  },
  {
   "cell_type": "code",
   "execution_count": 8,
   "metadata": {
    "scrolled": false
   },
   "outputs": [
    {
     "data": {
      "text/html": [
       "<div>\n",
       "<style scoped>\n",
       "    .dataframe tbody tr th:only-of-type {\n",
       "        vertical-align: middle;\n",
       "    }\n",
       "\n",
       "    .dataframe tbody tr th {\n",
       "        vertical-align: top;\n",
       "    }\n",
       "\n",
       "    .dataframe thead th {\n",
       "        text-align: right;\n",
       "    }\n",
       "</style>\n",
       "<table border=\"1\" class=\"dataframe\">\n",
       "  <thead>\n",
       "    <tr style=\"text-align: right;\">\n",
       "      <th></th>\n",
       "      <th>Customer Name</th>\n",
       "      <th>Customer e-mail</th>\n",
       "      <th>Country</th>\n",
       "      <th>Gender</th>\n",
       "      <th>Age</th>\n",
       "      <th>Annual Salary</th>\n",
       "      <th>Credit Card Debt</th>\n",
       "      <th>Net Worth</th>\n",
       "      <th>Car Purchase Amount</th>\n",
       "    </tr>\n",
       "  </thead>\n",
       "  <tbody>\n",
       "    <tr>\n",
       "      <td>490</td>\n",
       "      <td>Jonah</td>\n",
       "      <td>augue@risusNuncac.co.uk</td>\n",
       "      <td>Myanmar</td>\n",
       "      <td>1</td>\n",
       "      <td>45.752698</td>\n",
       "      <td>63722.00164</td>\n",
       "      <td>10711.444720</td>\n",
       "      <td>316128.4002</td>\n",
       "      <td>41352.47071</td>\n",
       "    </tr>\n",
       "    <tr>\n",
       "      <td>491</td>\n",
       "      <td>Merrill</td>\n",
       "      <td>dolor.sit@turpisIn.com</td>\n",
       "      <td>Egypt</td>\n",
       "      <td>1</td>\n",
       "      <td>50.197205</td>\n",
       "      <td>78518.21527</td>\n",
       "      <td>10072.482980</td>\n",
       "      <td>294506.0844</td>\n",
       "      <td>52785.16947</td>\n",
       "    </tr>\n",
       "    <tr>\n",
       "      <td>492</td>\n",
       "      <td>Nolan</td>\n",
       "      <td>Donec.at@neccursus.co.uk</td>\n",
       "      <td>Latvia</td>\n",
       "      <td>0</td>\n",
       "      <td>55.087720</td>\n",
       "      <td>72424.80112</td>\n",
       "      <td>9831.184792</td>\n",
       "      <td>523680.7699</td>\n",
       "      <td>60117.67886</td>\n",
       "    </tr>\n",
       "    <tr>\n",
       "      <td>493</td>\n",
       "      <td>Winter</td>\n",
       "      <td>egestas.urna.justo@maurissagittis.edu</td>\n",
       "      <td>Wallis and Futuna</td>\n",
       "      <td>0</td>\n",
       "      <td>42.900187</td>\n",
       "      <td>77665.17195</td>\n",
       "      <td>13308.879320</td>\n",
       "      <td>349588.5608</td>\n",
       "      <td>47760.66427</td>\n",
       "    </tr>\n",
       "    <tr>\n",
       "      <td>494</td>\n",
       "      <td>Rigel</td>\n",
       "      <td>egestas.blandit.Nam@semvitaealiquam.com</td>\n",
       "      <td>Sao Tome and Principe</td>\n",
       "      <td>0</td>\n",
       "      <td>51.767418</td>\n",
       "      <td>77345.61633</td>\n",
       "      <td>6736.751680</td>\n",
       "      <td>665099.1390</td>\n",
       "      <td>64188.26862</td>\n",
       "    </tr>\n",
       "    <tr>\n",
       "      <td>495</td>\n",
       "      <td>Walter</td>\n",
       "      <td>ligula@Cumsociis.ca</td>\n",
       "      <td>Nepal</td>\n",
       "      <td>0</td>\n",
       "      <td>41.462515</td>\n",
       "      <td>71942.40291</td>\n",
       "      <td>6995.902524</td>\n",
       "      <td>541670.1016</td>\n",
       "      <td>48901.44342</td>\n",
       "    </tr>\n",
       "    <tr>\n",
       "      <td>496</td>\n",
       "      <td>Vanna</td>\n",
       "      <td>Cum.sociis.natoque@Sedmolestie.edu</td>\n",
       "      <td>Zimbabwe</td>\n",
       "      <td>1</td>\n",
       "      <td>37.642000</td>\n",
       "      <td>56039.49793</td>\n",
       "      <td>12301.456790</td>\n",
       "      <td>360419.0988</td>\n",
       "      <td>31491.41457</td>\n",
       "    </tr>\n",
       "    <tr>\n",
       "      <td>497</td>\n",
       "      <td>Pearl</td>\n",
       "      <td>penatibus.et@massanonante.com</td>\n",
       "      <td>Philippines</td>\n",
       "      <td>1</td>\n",
       "      <td>53.943497</td>\n",
       "      <td>68888.77805</td>\n",
       "      <td>10611.606860</td>\n",
       "      <td>764531.3203</td>\n",
       "      <td>64147.28888</td>\n",
       "    </tr>\n",
       "    <tr>\n",
       "      <td>498</td>\n",
       "      <td>Nell</td>\n",
       "      <td>Quisque.varius@arcuVivamussit.net</td>\n",
       "      <td>Botswana</td>\n",
       "      <td>1</td>\n",
       "      <td>59.160509</td>\n",
       "      <td>49811.99062</td>\n",
       "      <td>14013.034510</td>\n",
       "      <td>337826.6382</td>\n",
       "      <td>45442.15353</td>\n",
       "    </tr>\n",
       "    <tr>\n",
       "      <td>499</td>\n",
       "      <td>Marla</td>\n",
       "      <td>Camaron.marla@hotmail.com</td>\n",
       "      <td>marlal</td>\n",
       "      <td>1</td>\n",
       "      <td>46.731152</td>\n",
       "      <td>61370.67766</td>\n",
       "      <td>9391.341628</td>\n",
       "      <td>462946.4924</td>\n",
       "      <td>45107.22566</td>\n",
       "    </tr>\n",
       "  </tbody>\n",
       "</table>\n",
       "</div>"
      ],
      "text/plain": [
       "    Customer Name                          Customer e-mail  \\\n",
       "490         Jonah                  augue@risusNuncac.co.uk   \n",
       "491       Merrill                   dolor.sit@turpisIn.com   \n",
       "492         Nolan                 Donec.at@neccursus.co.uk   \n",
       "493        Winter    egestas.urna.justo@maurissagittis.edu   \n",
       "494         Rigel  egestas.blandit.Nam@semvitaealiquam.com   \n",
       "495        Walter                      ligula@Cumsociis.ca   \n",
       "496         Vanna       Cum.sociis.natoque@Sedmolestie.edu   \n",
       "497         Pearl            penatibus.et@massanonante.com   \n",
       "498          Nell        Quisque.varius@arcuVivamussit.net   \n",
       "499         Marla                Camaron.marla@hotmail.com   \n",
       "\n",
       "                   Country  Gender        Age  Annual Salary  \\\n",
       "490                Myanmar       1  45.752698    63722.00164   \n",
       "491                  Egypt       1  50.197205    78518.21527   \n",
       "492                 Latvia       0  55.087720    72424.80112   \n",
       "493      Wallis and Futuna       0  42.900187    77665.17195   \n",
       "494  Sao Tome and Principe       0  51.767418    77345.61633   \n",
       "495                  Nepal       0  41.462515    71942.40291   \n",
       "496               Zimbabwe       1  37.642000    56039.49793   \n",
       "497            Philippines       1  53.943497    68888.77805   \n",
       "498               Botswana       1  59.160509    49811.99062   \n",
       "499                 marlal       1  46.731152    61370.67766   \n",
       "\n",
       "     Credit Card Debt    Net Worth  Car Purchase Amount  \n",
       "490      10711.444720  316128.4002          41352.47071  \n",
       "491      10072.482980  294506.0844          52785.16947  \n",
       "492       9831.184792  523680.7699          60117.67886  \n",
       "493      13308.879320  349588.5608          47760.66427  \n",
       "494       6736.751680  665099.1390          64188.26862  \n",
       "495       6995.902524  541670.1016          48901.44342  \n",
       "496      12301.456790  360419.0988          31491.41457  \n",
       "497      10611.606860  764531.3203          64147.28888  \n",
       "498      14013.034510  337826.6382          45442.15353  \n",
       "499       9391.341628  462946.4924          45107.22566  "
      ]
     },
     "execution_count": 8,
     "metadata": {},
     "output_type": "execute_result"
    }
   ],
   "source": [
    "car_df.tail(10)"
   ]
  },
  {
   "cell_type": "markdown",
   "metadata": {},
   "source": [
    "# Visualize Dataset"
   ]
  },
  {
   "cell_type": "code",
   "execution_count": 9,
   "metadata": {},
   "outputs": [
    {
     "data": {
      "text/plain": [
       "'Se visualiza el dataset para analizar como estan los datos'"
      ]
     },
     "execution_count": 9,
     "metadata": {},
     "output_type": "execute_result"
    }
   ],
   "source": [
    "\"\"\"Se visualiza el dataset para analizar como estan los datos\"\"\""
   ]
  },
  {
   "cell_type": "code",
   "execution_count": 11,
   "metadata": {
    "scrolled": true
   },
   "outputs": [
    {
     "ename": "TypeError",
     "evalue": "Cannot interpret '<attribute 'dtype' of 'numpy.generic' objects>' as a data type",
     "output_type": "error",
     "traceback": [
      "\u001b[0;31m---------------------------------------------------------------------------\u001b[0m",
      "\u001b[0;31mTypeError\u001b[0m                                 Traceback (most recent call last)",
      "\u001b[0;32m<ipython-input-11-855ac7cc82e0>\u001b[0m in \u001b[0;36m<module>\u001b[0;34m\u001b[0m\n\u001b[0;32m----> 1\u001b[0;31m \u001b[0msns\u001b[0m\u001b[0;34m.\u001b[0m\u001b[0mpairplot\u001b[0m\u001b[0;34m(\u001b[0m\u001b[0mcar_df\u001b[0m\u001b[0;34m)\u001b[0m\u001b[0;34m\u001b[0m\u001b[0;34m\u001b[0m\u001b[0m\n\u001b[0m",
      "\u001b[0;32m~/anaconda3/envs/ml8/lib/python3.7/site-packages/seaborn/axisgrid.py\u001b[0m in \u001b[0;36mpairplot\u001b[0;34m(data, hue, hue_order, palette, vars, x_vars, y_vars, kind, diag_kind, markers, height, aspect, dropna, plot_kws, diag_kws, grid_kws, size)\u001b[0m\n\u001b[1;32m   2119\u001b[0m     \u001b[0;32mif\u001b[0m \u001b[0mkind\u001b[0m \u001b[0;34m==\u001b[0m \u001b[0;34m\"scatter\"\u001b[0m\u001b[0;34m:\u001b[0m\u001b[0;34m\u001b[0m\u001b[0;34m\u001b[0m\u001b[0m\n\u001b[1;32m   2120\u001b[0m         \u001b[0;32mfrom\u001b[0m \u001b[0;34m.\u001b[0m\u001b[0mrelational\u001b[0m \u001b[0;32mimport\u001b[0m \u001b[0mscatterplot\u001b[0m  \u001b[0;31m# Avoid circular import\u001b[0m\u001b[0;34m\u001b[0m\u001b[0;34m\u001b[0m\u001b[0m\n\u001b[0;32m-> 2121\u001b[0;31m         \u001b[0mplotter\u001b[0m\u001b[0;34m(\u001b[0m\u001b[0mscatterplot\u001b[0m\u001b[0;34m,\u001b[0m \u001b[0;34m**\u001b[0m\u001b[0mplot_kws\u001b[0m\u001b[0;34m)\u001b[0m\u001b[0;34m\u001b[0m\u001b[0;34m\u001b[0m\u001b[0m\n\u001b[0m\u001b[1;32m   2122\u001b[0m     \u001b[0;32melif\u001b[0m \u001b[0mkind\u001b[0m \u001b[0;34m==\u001b[0m \u001b[0;34m\"reg\"\u001b[0m\u001b[0;34m:\u001b[0m\u001b[0;34m\u001b[0m\u001b[0;34m\u001b[0m\u001b[0m\n\u001b[1;32m   2123\u001b[0m         \u001b[0;32mfrom\u001b[0m \u001b[0;34m.\u001b[0m\u001b[0mregression\u001b[0m \u001b[0;32mimport\u001b[0m \u001b[0mregplot\u001b[0m  \u001b[0;31m# Avoid circular import\u001b[0m\u001b[0;34m\u001b[0m\u001b[0;34m\u001b[0m\u001b[0m\n",
      "\u001b[0;32m~/anaconda3/envs/ml8/lib/python3.7/site-packages/seaborn/axisgrid.py\u001b[0m in \u001b[0;36mmap_offdiag\u001b[0;34m(self, func, **kwargs)\u001b[0m\n\u001b[1;32m   1510\u001b[0m         \"\"\"\n\u001b[1;32m   1511\u001b[0m \u001b[0;34m\u001b[0m\u001b[0m\n\u001b[0;32m-> 1512\u001b[0;31m         \u001b[0mself\u001b[0m\u001b[0;34m.\u001b[0m\u001b[0mmap_lower\u001b[0m\u001b[0;34m(\u001b[0m\u001b[0mfunc\u001b[0m\u001b[0;34m,\u001b[0m \u001b[0;34m**\u001b[0m\u001b[0mkwargs\u001b[0m\u001b[0;34m)\u001b[0m\u001b[0;34m\u001b[0m\u001b[0;34m\u001b[0m\u001b[0m\n\u001b[0m\u001b[1;32m   1513\u001b[0m         \u001b[0mself\u001b[0m\u001b[0;34m.\u001b[0m\u001b[0mmap_upper\u001b[0m\u001b[0;34m(\u001b[0m\u001b[0mfunc\u001b[0m\u001b[0;34m,\u001b[0m \u001b[0;34m**\u001b[0m\u001b[0mkwargs\u001b[0m\u001b[0;34m)\u001b[0m\u001b[0;34m\u001b[0m\u001b[0;34m\u001b[0m\u001b[0m\n\u001b[1;32m   1514\u001b[0m         \u001b[0;32mreturn\u001b[0m \u001b[0mself\u001b[0m\u001b[0;34m\u001b[0m\u001b[0;34m\u001b[0m\u001b[0m\n",
      "\u001b[0;32m~/anaconda3/envs/ml8/lib/python3.7/site-packages/seaborn/axisgrid.py\u001b[0m in \u001b[0;36mmap_lower\u001b[0;34m(self, func, **kwargs)\u001b[0m\n\u001b[1;32m   1440\u001b[0m                 \u001b[0mcolor\u001b[0m \u001b[0;34m=\u001b[0m \u001b[0mself\u001b[0m\u001b[0;34m.\u001b[0m\u001b[0mpalette\u001b[0m\u001b[0;34m[\u001b[0m\u001b[0mk\u001b[0m\u001b[0;34m]\u001b[0m \u001b[0;32mif\u001b[0m \u001b[0mkw_color\u001b[0m \u001b[0;32mis\u001b[0m \u001b[0;32mNone\u001b[0m \u001b[0;32melse\u001b[0m \u001b[0mkw_color\u001b[0m\u001b[0;34m\u001b[0m\u001b[0;34m\u001b[0m\u001b[0m\n\u001b[1;32m   1441\u001b[0m                 func(data_k[x_var], data_k[y_var], label=label_k,\n\u001b[0;32m-> 1442\u001b[0;31m                      color=color, **kwargs)\n\u001b[0m\u001b[1;32m   1443\u001b[0m \u001b[0;34m\u001b[0m\u001b[0m\n\u001b[1;32m   1444\u001b[0m             \u001b[0mself\u001b[0m\u001b[0;34m.\u001b[0m\u001b[0m_clean_axis\u001b[0m\u001b[0;34m(\u001b[0m\u001b[0max\u001b[0m\u001b[0;34m)\u001b[0m\u001b[0;34m\u001b[0m\u001b[0;34m\u001b[0m\u001b[0m\n",
      "\u001b[0;32m~/anaconda3/envs/ml8/lib/python3.7/site-packages/seaborn/relational.py\u001b[0m in \u001b[0;36mscatterplot\u001b[0;34m(x, y, hue, style, size, data, palette, hue_order, hue_norm, sizes, size_order, size_norm, markers, style_order, x_bins, y_bins, units, estimator, ci, n_boot, alpha, x_jitter, y_jitter, legend, ax, **kwargs)\u001b[0m\n\u001b[1;32m   1333\u001b[0m         \u001b[0mx_bins\u001b[0m\u001b[0;34m=\u001b[0m\u001b[0mx_bins\u001b[0m\u001b[0;34m,\u001b[0m \u001b[0my_bins\u001b[0m\u001b[0;34m=\u001b[0m\u001b[0my_bins\u001b[0m\u001b[0;34m,\u001b[0m\u001b[0;34m\u001b[0m\u001b[0;34m\u001b[0m\u001b[0m\n\u001b[1;32m   1334\u001b[0m         \u001b[0mestimator\u001b[0m\u001b[0;34m=\u001b[0m\u001b[0mestimator\u001b[0m\u001b[0;34m,\u001b[0m \u001b[0mci\u001b[0m\u001b[0;34m=\u001b[0m\u001b[0mci\u001b[0m\u001b[0;34m,\u001b[0m \u001b[0mn_boot\u001b[0m\u001b[0;34m=\u001b[0m\u001b[0mn_boot\u001b[0m\u001b[0;34m,\u001b[0m\u001b[0;34m\u001b[0m\u001b[0;34m\u001b[0m\u001b[0m\n\u001b[0;32m-> 1335\u001b[0;31m         \u001b[0malpha\u001b[0m\u001b[0;34m=\u001b[0m\u001b[0malpha\u001b[0m\u001b[0;34m,\u001b[0m \u001b[0mx_jitter\u001b[0m\u001b[0;34m=\u001b[0m\u001b[0mx_jitter\u001b[0m\u001b[0;34m,\u001b[0m \u001b[0my_jitter\u001b[0m\u001b[0;34m=\u001b[0m\u001b[0my_jitter\u001b[0m\u001b[0;34m,\u001b[0m \u001b[0mlegend\u001b[0m\u001b[0;34m=\u001b[0m\u001b[0mlegend\u001b[0m\u001b[0;34m,\u001b[0m\u001b[0;34m\u001b[0m\u001b[0;34m\u001b[0m\u001b[0m\n\u001b[0m\u001b[1;32m   1336\u001b[0m     )\n\u001b[1;32m   1337\u001b[0m \u001b[0;34m\u001b[0m\u001b[0m\n",
      "\u001b[0;32m~/anaconda3/envs/ml8/lib/python3.7/site-packages/seaborn/relational.py\u001b[0m in \u001b[0;36m__init__\u001b[0;34m(self, x, y, hue, size, style, data, palette, hue_order, hue_norm, sizes, size_order, size_norm, dashes, markers, style_order, x_bins, y_bins, units, estimator, ci, n_boot, alpha, x_jitter, y_jitter, legend)\u001b[0m\n\u001b[1;32m    850\u001b[0m \u001b[0;34m\u001b[0m\u001b[0m\n\u001b[1;32m    851\u001b[0m         plot_data = self.establish_variables(\n\u001b[0;32m--> 852\u001b[0;31m             \u001b[0mx\u001b[0m\u001b[0;34m,\u001b[0m \u001b[0my\u001b[0m\u001b[0;34m,\u001b[0m \u001b[0mhue\u001b[0m\u001b[0;34m,\u001b[0m \u001b[0msize\u001b[0m\u001b[0;34m,\u001b[0m \u001b[0mstyle\u001b[0m\u001b[0;34m,\u001b[0m \u001b[0munits\u001b[0m\u001b[0;34m,\u001b[0m \u001b[0mdata\u001b[0m\u001b[0;34m\u001b[0m\u001b[0;34m\u001b[0m\u001b[0m\n\u001b[0m\u001b[1;32m    853\u001b[0m         )\n\u001b[1;32m    854\u001b[0m \u001b[0;34m\u001b[0m\u001b[0m\n",
      "\u001b[0;32m~/anaconda3/envs/ml8/lib/python3.7/site-packages/seaborn/relational.py\u001b[0m in \u001b[0;36mestablish_variables\u001b[0;34m(self, x, y, hue, size, style, units, data)\u001b[0m\n\u001b[1;32m    155\u001b[0m                 \u001b[0munits\u001b[0m\u001b[0;34m=\u001b[0m\u001b[0munits\u001b[0m\u001b[0;34m\u001b[0m\u001b[0;34m\u001b[0m\u001b[0m\n\u001b[1;32m    156\u001b[0m             )\n\u001b[0;32m--> 157\u001b[0;31m             \u001b[0mplot_data\u001b[0m \u001b[0;34m=\u001b[0m \u001b[0mpd\u001b[0m\u001b[0;34m.\u001b[0m\u001b[0mDataFrame\u001b[0m\u001b[0;34m(\u001b[0m\u001b[0mplot_data\u001b[0m\u001b[0;34m)\u001b[0m\u001b[0;34m\u001b[0m\u001b[0;34m\u001b[0m\u001b[0m\n\u001b[0m\u001b[1;32m    158\u001b[0m \u001b[0;34m\u001b[0m\u001b[0m\n\u001b[1;32m    159\u001b[0m         \u001b[0;31m# Option 3:\u001b[0m\u001b[0;34m\u001b[0m\u001b[0;34m\u001b[0m\u001b[0;34m\u001b[0m\u001b[0m\n",
      "\u001b[0;32m~/anaconda3/envs/ml8/lib/python3.7/site-packages/pandas/core/frame.py\u001b[0m in \u001b[0;36m__init__\u001b[0;34m(self, data, index, columns, dtype, copy)\u001b[0m\n\u001b[1;32m    409\u001b[0m             )\n\u001b[1;32m    410\u001b[0m         \u001b[0;32melif\u001b[0m \u001b[0misinstance\u001b[0m\u001b[0;34m(\u001b[0m\u001b[0mdata\u001b[0m\u001b[0;34m,\u001b[0m \u001b[0mdict\u001b[0m\u001b[0;34m)\u001b[0m\u001b[0;34m:\u001b[0m\u001b[0;34m\u001b[0m\u001b[0;34m\u001b[0m\u001b[0m\n\u001b[0;32m--> 411\u001b[0;31m             \u001b[0mmgr\u001b[0m \u001b[0;34m=\u001b[0m \u001b[0minit_dict\u001b[0m\u001b[0;34m(\u001b[0m\u001b[0mdata\u001b[0m\u001b[0;34m,\u001b[0m \u001b[0mindex\u001b[0m\u001b[0;34m,\u001b[0m \u001b[0mcolumns\u001b[0m\u001b[0;34m,\u001b[0m \u001b[0mdtype\u001b[0m\u001b[0;34m=\u001b[0m\u001b[0mdtype\u001b[0m\u001b[0;34m)\u001b[0m\u001b[0;34m\u001b[0m\u001b[0;34m\u001b[0m\u001b[0m\n\u001b[0m\u001b[1;32m    412\u001b[0m         \u001b[0;32melif\u001b[0m \u001b[0misinstance\u001b[0m\u001b[0;34m(\u001b[0m\u001b[0mdata\u001b[0m\u001b[0;34m,\u001b[0m \u001b[0mma\u001b[0m\u001b[0;34m.\u001b[0m\u001b[0mMaskedArray\u001b[0m\u001b[0;34m)\u001b[0m\u001b[0;34m:\u001b[0m\u001b[0;34m\u001b[0m\u001b[0;34m\u001b[0m\u001b[0m\n\u001b[1;32m    413\u001b[0m             \u001b[0;32mimport\u001b[0m \u001b[0mnumpy\u001b[0m\u001b[0;34m.\u001b[0m\u001b[0mma\u001b[0m\u001b[0;34m.\u001b[0m\u001b[0mmrecords\u001b[0m \u001b[0;32mas\u001b[0m \u001b[0mmrecords\u001b[0m\u001b[0;34m\u001b[0m\u001b[0;34m\u001b[0m\u001b[0m\n",
      "\u001b[0;32m~/anaconda3/envs/ml8/lib/python3.7/site-packages/pandas/core/internals/construction.py\u001b[0m in \u001b[0;36minit_dict\u001b[0;34m(data, index, columns, dtype)\u001b[0m\n\u001b[1;32m    255\u001b[0m             \u001b[0marr\u001b[0m \u001b[0;32mif\u001b[0m \u001b[0;32mnot\u001b[0m \u001b[0mis_datetime64tz_dtype\u001b[0m\u001b[0;34m(\u001b[0m\u001b[0marr\u001b[0m\u001b[0;34m)\u001b[0m \u001b[0;32melse\u001b[0m \u001b[0marr\u001b[0m\u001b[0;34m.\u001b[0m\u001b[0mcopy\u001b[0m\u001b[0;34m(\u001b[0m\u001b[0;34m)\u001b[0m \u001b[0;32mfor\u001b[0m \u001b[0marr\u001b[0m \u001b[0;32min\u001b[0m \u001b[0marrays\u001b[0m\u001b[0;34m\u001b[0m\u001b[0;34m\u001b[0m\u001b[0m\n\u001b[1;32m    256\u001b[0m         ]\n\u001b[0;32m--> 257\u001b[0;31m     \u001b[0;32mreturn\u001b[0m \u001b[0marrays_to_mgr\u001b[0m\u001b[0;34m(\u001b[0m\u001b[0marrays\u001b[0m\u001b[0;34m,\u001b[0m \u001b[0mdata_names\u001b[0m\u001b[0;34m,\u001b[0m \u001b[0mindex\u001b[0m\u001b[0;34m,\u001b[0m \u001b[0mcolumns\u001b[0m\u001b[0;34m,\u001b[0m \u001b[0mdtype\u001b[0m\u001b[0;34m=\u001b[0m\u001b[0mdtype\u001b[0m\u001b[0;34m)\u001b[0m\u001b[0;34m\u001b[0m\u001b[0;34m\u001b[0m\u001b[0m\n\u001b[0m\u001b[1;32m    258\u001b[0m \u001b[0;34m\u001b[0m\u001b[0m\n\u001b[1;32m    259\u001b[0m \u001b[0;34m\u001b[0m\u001b[0m\n",
      "\u001b[0;32m~/anaconda3/envs/ml8/lib/python3.7/site-packages/pandas/core/internals/construction.py\u001b[0m in \u001b[0;36marrays_to_mgr\u001b[0;34m(arrays, arr_names, index, columns, dtype)\u001b[0m\n\u001b[1;32m     80\u001b[0m \u001b[0;34m\u001b[0m\u001b[0m\n\u001b[1;32m     81\u001b[0m     \u001b[0;31m# don't force copy because getting jammed in an ndarray anyway\u001b[0m\u001b[0;34m\u001b[0m\u001b[0;34m\u001b[0m\u001b[0;34m\u001b[0m\u001b[0m\n\u001b[0;32m---> 82\u001b[0;31m     \u001b[0marrays\u001b[0m \u001b[0;34m=\u001b[0m \u001b[0m_homogenize\u001b[0m\u001b[0;34m(\u001b[0m\u001b[0marrays\u001b[0m\u001b[0;34m,\u001b[0m \u001b[0mindex\u001b[0m\u001b[0;34m,\u001b[0m \u001b[0mdtype\u001b[0m\u001b[0;34m)\u001b[0m\u001b[0;34m\u001b[0m\u001b[0;34m\u001b[0m\u001b[0m\n\u001b[0m\u001b[1;32m     83\u001b[0m \u001b[0;34m\u001b[0m\u001b[0m\n\u001b[1;32m     84\u001b[0m     \u001b[0;31m# from BlockManager perspective\u001b[0m\u001b[0;34m\u001b[0m\u001b[0;34m\u001b[0m\u001b[0;34m\u001b[0m\u001b[0m\n",
      "\u001b[0;32m~/anaconda3/envs/ml8/lib/python3.7/site-packages/pandas/core/internals/construction.py\u001b[0m in \u001b[0;36m_homogenize\u001b[0;34m(data, index, dtype)\u001b[0m\n\u001b[1;32m    321\u001b[0m                 \u001b[0mval\u001b[0m \u001b[0;34m=\u001b[0m \u001b[0mlib\u001b[0m\u001b[0;34m.\u001b[0m\u001b[0mfast_multiget\u001b[0m\u001b[0;34m(\u001b[0m\u001b[0mval\u001b[0m\u001b[0;34m,\u001b[0m \u001b[0moindex\u001b[0m\u001b[0;34m.\u001b[0m\u001b[0mvalues\u001b[0m\u001b[0;34m,\u001b[0m \u001b[0mdefault\u001b[0m\u001b[0;34m=\u001b[0m\u001b[0mnp\u001b[0m\u001b[0;34m.\u001b[0m\u001b[0mnan\u001b[0m\u001b[0;34m)\u001b[0m\u001b[0;34m\u001b[0m\u001b[0;34m\u001b[0m\u001b[0m\n\u001b[1;32m    322\u001b[0m             val = sanitize_array(\n\u001b[0;32m--> 323\u001b[0;31m                 \u001b[0mval\u001b[0m\u001b[0;34m,\u001b[0m \u001b[0mindex\u001b[0m\u001b[0;34m,\u001b[0m \u001b[0mdtype\u001b[0m\u001b[0;34m=\u001b[0m\u001b[0mdtype\u001b[0m\u001b[0;34m,\u001b[0m \u001b[0mcopy\u001b[0m\u001b[0;34m=\u001b[0m\u001b[0;32mFalse\u001b[0m\u001b[0;34m,\u001b[0m \u001b[0mraise_cast_failure\u001b[0m\u001b[0;34m=\u001b[0m\u001b[0;32mFalse\u001b[0m\u001b[0;34m\u001b[0m\u001b[0;34m\u001b[0m\u001b[0m\n\u001b[0m\u001b[1;32m    324\u001b[0m             )\n\u001b[1;32m    325\u001b[0m \u001b[0;34m\u001b[0m\u001b[0m\n",
      "\u001b[0;32m~/anaconda3/envs/ml8/lib/python3.7/site-packages/pandas/core/internals/construction.py\u001b[0m in \u001b[0;36msanitize_array\u001b[0;34m(data, index, dtype, copy, raise_cast_failure)\u001b[0m\n\u001b[1;32m    710\u001b[0m                 \u001b[0mvalue\u001b[0m \u001b[0;34m=\u001b[0m \u001b[0mmaybe_cast_to_datetime\u001b[0m\u001b[0;34m(\u001b[0m\u001b[0mvalue\u001b[0m\u001b[0;34m,\u001b[0m \u001b[0mdtype\u001b[0m\u001b[0;34m)\u001b[0m\u001b[0;34m\u001b[0m\u001b[0;34m\u001b[0m\u001b[0m\n\u001b[1;32m    711\u001b[0m \u001b[0;34m\u001b[0m\u001b[0m\n\u001b[0;32m--> 712\u001b[0;31m             \u001b[0msubarr\u001b[0m \u001b[0;34m=\u001b[0m \u001b[0mconstruct_1d_arraylike_from_scalar\u001b[0m\u001b[0;34m(\u001b[0m\u001b[0mvalue\u001b[0m\u001b[0;34m,\u001b[0m \u001b[0mlen\u001b[0m\u001b[0;34m(\u001b[0m\u001b[0mindex\u001b[0m\u001b[0;34m)\u001b[0m\u001b[0;34m,\u001b[0m \u001b[0mdtype\u001b[0m\u001b[0;34m)\u001b[0m\u001b[0;34m\u001b[0m\u001b[0;34m\u001b[0m\u001b[0m\n\u001b[0m\u001b[1;32m    713\u001b[0m \u001b[0;34m\u001b[0m\u001b[0m\n\u001b[1;32m    714\u001b[0m         \u001b[0;32melse\u001b[0m\u001b[0;34m:\u001b[0m\u001b[0;34m\u001b[0m\u001b[0;34m\u001b[0m\u001b[0m\n",
      "\u001b[0;32m~/anaconda3/envs/ml8/lib/python3.7/site-packages/pandas/core/dtypes/cast.py\u001b[0m in \u001b[0;36mconstruct_1d_arraylike_from_scalar\u001b[0;34m(value, length, dtype)\u001b[0m\n\u001b[1;32m   1231\u001b[0m                 \u001b[0mvalue\u001b[0m \u001b[0;34m=\u001b[0m \u001b[0mensure_str\u001b[0m\u001b[0;34m(\u001b[0m\u001b[0mvalue\u001b[0m\u001b[0;34m)\u001b[0m\u001b[0;34m\u001b[0m\u001b[0;34m\u001b[0m\u001b[0m\n\u001b[1;32m   1232\u001b[0m \u001b[0;34m\u001b[0m\u001b[0m\n\u001b[0;32m-> 1233\u001b[0;31m         \u001b[0msubarr\u001b[0m \u001b[0;34m=\u001b[0m \u001b[0mnp\u001b[0m\u001b[0;34m.\u001b[0m\u001b[0mempty\u001b[0m\u001b[0;34m(\u001b[0m\u001b[0mlength\u001b[0m\u001b[0;34m,\u001b[0m \u001b[0mdtype\u001b[0m\u001b[0;34m=\u001b[0m\u001b[0mdtype\u001b[0m\u001b[0;34m)\u001b[0m\u001b[0;34m\u001b[0m\u001b[0;34m\u001b[0m\u001b[0m\n\u001b[0m\u001b[1;32m   1234\u001b[0m         \u001b[0msubarr\u001b[0m\u001b[0;34m.\u001b[0m\u001b[0mfill\u001b[0m\u001b[0;34m(\u001b[0m\u001b[0mvalue\u001b[0m\u001b[0;34m)\u001b[0m\u001b[0;34m\u001b[0m\u001b[0;34m\u001b[0m\u001b[0m\n\u001b[1;32m   1235\u001b[0m \u001b[0;34m\u001b[0m\u001b[0m\n",
      "\u001b[0;31mTypeError\u001b[0m: Cannot interpret '<attribute 'dtype' of 'numpy.generic' objects>' as a data type"
     ]
    },
    {
     "data": {
      "image/png": "[encoded data removed]",
      "text/plain": [
       "<Figure size 1080x1080 with 42 Axes>"
      ]
     },
     "metadata": {
      "needs_background": "light"
     },
     "output_type": "display_data"
    }
   ],
   "source": [
    "sns.pairplot(car_df)"
   ]
  },
  {
   "cell_type": "markdown",
   "metadata": {},
   "source": [
    "# Creating input and output"
   ]
  },
  {
   "cell_type": "code",
   "execution_count": 12,
   "metadata": {},
   "outputs": [
    {
     "data": {
      "text/plain": [
       "'Se crean las entradas y salidas del modelo, dejando las features que sirven'"
      ]
     },
     "execution_count": 12,
     "metadata": {},
     "output_type": "execute_result"
    }
   ],
   "source": [
    "\"\"\"Se crean las entradas y salidas del modelo, dejando las features que sirven\"\"\""
   ]
  },
  {
   "cell_type": "code",
   "execution_count": 13,
   "metadata": {},
   "outputs": [
    {
     "data": {
      "text/plain": [
       "Index(['Customer Name', 'Customer e-mail', 'Country', 'Gender', 'Age',\n",
       "       'Annual Salary', 'Credit Card Debt', 'Net Worth',\n",
       "       'Car Purchase Amount'],\n",
       "      dtype='object')"
      ]
     },
     "execution_count": 13,
     "metadata": {},
     "output_type": "execute_result"
    }
   ],
   "source": [
    "car_df.columns"
   ]
  },
  {
   "cell_type": "code",
   "execution_count": 14,
   "metadata": {},
   "outputs": [],
   "source": [
    "X = car_df.drop(['Customer Name', 'Customer e-mail', 'Country', 'Car Purchase Amount'], axis=1)"
   ]
  },
  {
   "cell_type": "code",
   "execution_count": 15,
   "metadata": {
    "scrolled": true
   },
   "outputs": [
    {
     "data": {
      "text/html": [
       "<div>\n",
       "<style scoped>\n",
       "    .dataframe tbody tr th:only-of-type {\n",
       "        vertical-align: middle;\n",
       "    }\n",
       "\n",
       "    .dataframe tbody tr th {\n",
       "        vertical-align: top;\n",
       "    }\n",
       "\n",
       "    .dataframe thead th {\n",
       "        text-align: right;\n",
       "    }\n",
       "</style>\n",
       "<table border=\"1\" class=\"dataframe\">\n",
       "  <thead>\n",
       "    <tr style=\"text-align: right;\">\n",
       "      <th></th>\n",
       "      <th>Gender</th>\n",
       "      <th>Age</th>\n",
       "      <th>Annual Salary</th>\n",
       "      <th>Credit Card Debt</th>\n",
       "      <th>Net Worth</th>\n",
       "    </tr>\n",
       "  </thead>\n",
       "  <tbody>\n",
       "    <tr>\n",
       "      <td>0</td>\n",
       "      <td>0</td>\n",
       "      <td>41.851720</td>\n",
       "      <td>62812.09301</td>\n",
       "      <td>11609.380910</td>\n",
       "      <td>238961.2505</td>\n",
       "    </tr>\n",
       "    <tr>\n",
       "      <td>1</td>\n",
       "      <td>0</td>\n",
       "      <td>40.870623</td>\n",
       "      <td>66646.89292</td>\n",
       "      <td>9572.957136</td>\n",
       "      <td>530973.9078</td>\n",
       "    </tr>\n",
       "    <tr>\n",
       "      <td>2</td>\n",
       "      <td>1</td>\n",
       "      <td>43.152897</td>\n",
       "      <td>53798.55112</td>\n",
       "      <td>11160.355060</td>\n",
       "      <td>638467.1773</td>\n",
       "    </tr>\n",
       "    <tr>\n",
       "      <td>3</td>\n",
       "      <td>1</td>\n",
       "      <td>58.271369</td>\n",
       "      <td>79370.03798</td>\n",
       "      <td>14426.164850</td>\n",
       "      <td>548599.0524</td>\n",
       "    </tr>\n",
       "    <tr>\n",
       "      <td>4</td>\n",
       "      <td>1</td>\n",
       "      <td>57.313749</td>\n",
       "      <td>59729.15130</td>\n",
       "      <td>5358.712177</td>\n",
       "      <td>560304.0671</td>\n",
       "    </tr>\n",
       "    <tr>\n",
       "      <td>...</td>\n",
       "      <td>...</td>\n",
       "      <td>...</td>\n",
       "      <td>...</td>\n",
       "      <td>...</td>\n",
       "      <td>...</td>\n",
       "    </tr>\n",
       "    <tr>\n",
       "      <td>495</td>\n",
       "      <td>0</td>\n",
       "      <td>41.462515</td>\n",
       "      <td>71942.40291</td>\n",
       "      <td>6995.902524</td>\n",
       "      <td>541670.1016</td>\n",
       "    </tr>\n",
       "    <tr>\n",
       "      <td>496</td>\n",
       "      <td>1</td>\n",
       "      <td>37.642000</td>\n",
       "      <td>56039.49793</td>\n",
       "      <td>12301.456790</td>\n",
       "      <td>360419.0988</td>\n",
       "    </tr>\n",
       "    <tr>\n",
       "      <td>497</td>\n",
       "      <td>1</td>\n",
       "      <td>53.943497</td>\n",
       "      <td>68888.77805</td>\n",
       "      <td>10611.606860</td>\n",
       "      <td>764531.3203</td>\n",
       "    </tr>\n",
       "    <tr>\n",
       "      <td>498</td>\n",
       "      <td>1</td>\n",
       "      <td>59.160509</td>\n",
       "      <td>49811.99062</td>\n",
       "      <td>14013.034510</td>\n",
       "      <td>337826.6382</td>\n",
       "    </tr>\n",
       "    <tr>\n",
       "      <td>499</td>\n",
       "      <td>1</td>\n",
       "      <td>46.731152</td>\n",
       "      <td>61370.67766</td>\n",
       "      <td>9391.341628</td>\n",
       "      <td>462946.4924</td>\n",
       "    </tr>\n",
       "  </tbody>\n",
       "</table>\n",
       "<p>500 rows × 5 columns</p>\n",
       "</div>"
      ],
      "text/plain": [
       "     Gender        Age  Annual Salary  Credit Card Debt    Net Worth\n",
       "0         0  41.851720    62812.09301      11609.380910  238961.2505\n",
       "1         0  40.870623    66646.89292       9572.957136  530973.9078\n",
       "2         1  43.152897    53798.55112      11160.355060  638467.1773\n",
       "3         1  58.271369    79370.03798      14426.164850  548599.0524\n",
       "4         1  57.313749    59729.15130       5358.712177  560304.0671\n",
       "..      ...        ...            ...               ...          ...\n",
       "495       0  41.462515    71942.40291       6995.902524  541670.1016\n",
       "496       1  37.642000    56039.49793      12301.456790  360419.0988\n",
       "497       1  53.943497    68888.77805      10611.606860  764531.3203\n",
       "498       1  59.160509    49811.99062      14013.034510  337826.6382\n",
       "499       1  46.731152    61370.67766       9391.341628  462946.4924\n",
       "\n",
       "[500 rows x 5 columns]"
      ]
     },
     "execution_count": 15,
     "metadata": {},
     "output_type": "execute_result"
    }
   ],
   "source": [
    "X"
   ]
  },
  {
   "cell_type": "code",
   "execution_count": 16,
   "metadata": {},
   "outputs": [],
   "source": [
    "y = car_df['Car Purchase Amount']"
   ]
  },
  {
   "cell_type": "code",
   "execution_count": 17,
   "metadata": {},
   "outputs": [
    {
     "data": {
      "text/plain": [
       "0      35321.45877\n",
       "1      45115.52566\n",
       "2      42925.70921\n",
       "3      67422.36313\n",
       "4      55915.46248\n",
       "          ...     \n",
       "495    48901.44342\n",
       "496    31491.41457\n",
       "497    64147.28888\n",
       "498    45442.15353\n",
       "499    45107.22566\n",
       "Name: Car Purchase Amount, Length: 500, dtype: float64"
      ]
     },
     "execution_count": 17,
     "metadata": {},
     "output_type": "execute_result"
    }
   ],
   "source": [
    "y"
   ]
  },
  {
   "cell_type": "code",
   "execution_count": 18,
   "metadata": {},
   "outputs": [
    {
     "data": {
      "text/plain": [
       "(500, 5)"
      ]
     },
     "execution_count": 18,
     "metadata": {},
     "output_type": "execute_result"
    }
   ],
   "source": [
    "X.shape"
   ]
  },
  {
   "cell_type": "code",
   "execution_count": 19,
   "metadata": {},
   "outputs": [
    {
     "data": {
      "text/plain": [
       "(500,)"
      ]
     },
     "execution_count": 19,
     "metadata": {},
     "output_type": "execute_result"
    }
   ],
   "source": [
    "y.shape"
   ]
  },
  {
   "cell_type": "markdown",
   "metadata": {},
   "source": [
    "## Data Normalization"
   ]
  },
  {
   "cell_type": "code",
   "execution_count": 20,
   "metadata": {},
   "outputs": [],
   "source": [
    "\"\"\"Normalizar la data en el mismo estándar para poder entrenarla y que no tenga errores\n",
    "    A su vez tiene algo de limpieza. Para esta normalizacion se está usando el MinMaxScaler\"\"\"\n",
    "\n",
    "\"\"\"Normalizando el input X\"\"\"\n",
    "from sklearn.preprocessing import MinMaxScaler\n",
    "\n",
    "scaler = MinMaxScaler()\n",
    "\n",
    "X_scaled = scaler.fit_transform(X)"
   ]
  },
  {
   "cell_type": "code",
   "execution_count": 21,
   "metadata": {
    "scrolled": false
   },
   "outputs": [
    {
     "data": {
      "text/plain": [
       "array([[0.        , 0.4370344 , 0.53515116, 0.57836085, 0.22342985],\n",
       "       [0.        , 0.41741247, 0.58308616, 0.476028  , 0.52140195],\n",
       "       [1.        , 0.46305795, 0.42248189, 0.55579674, 0.63108896],\n",
       "       ...,\n",
       "       [1.        , 0.67886994, 0.61110973, 0.52822145, 0.75972584],\n",
       "       [1.        , 0.78321017, 0.37264988, 0.69914746, 0.3243129 ],\n",
       "       [1.        , 0.53462305, 0.51713347, 0.46690159, 0.45198622]])"
      ]
     },
     "execution_count": 21,
     "metadata": {},
     "output_type": "execute_result"
    }
   ],
   "source": [
    "X_scaled"
   ]
  },
  {
   "cell_type": "code",
   "execution_count": 22,
   "metadata": {
    "scrolled": false
   },
   "outputs": [
    {
     "data": {
      "text/plain": [
       "(500, 5)"
      ]
     },
     "execution_count": 22,
     "metadata": {},
     "output_type": "execute_result"
    }
   ],
   "source": [
    "X_scaled.shape"
   ]
  },
  {
   "cell_type": "code",
   "execution_count": 23,
   "metadata": {
    "scrolled": false
   },
   "outputs": [
    {
     "name": "stdout",
     "output_type": "stream",
     "text": [
      "[1.e+00 7.e+01 1.e+05 2.e+04 1.e+06]\n"
     ]
    },
    {
     "data": {
      "text/plain": [
       "array([    0.,    20., 20000.,   100., 20000.])"
      ]
     },
     "execution_count": 23,
     "metadata": {},
     "output_type": "execute_result"
    }
   ],
   "source": [
    "\"\"\"Máximos y mínimos de cada columna\"\"\"\n",
    "print(scaler.data_max_)\n",
    "scaler.data_min_"
   ]
  },
  {
   "cell_type": "code",
   "execution_count": 24,
   "metadata": {},
   "outputs": [],
   "source": [
    "\"\"\"Normalizando el output y\"\"\"\n",
    "\n",
    "scalery = MinMaxScaler()\n"
   ]
  },
  {
   "cell_type": "code",
   "execution_count": 25,
   "metadata": {},
   "outputs": [],
   "source": [
    "y =y.values.reshape(-1,1)"
   ]
  },
  {
   "cell_type": "code",
   "execution_count": 26,
   "metadata": {},
   "outputs": [
    {
     "data": {
      "text/plain": [
       "array([[0.37072477],\n",
       "       [0.50866938],\n",
       "       [0.47782689],\n",
       "       [0.82285018],\n",
       "       [0.66078116],\n",
       "       [0.67059152],\n",
       "       [0.28064374],\n",
       "       [0.54133778],\n",
       "       [0.54948752],\n",
       "       [0.4111198 ],\n",
       "       [0.70486638],\n",
       "       [0.46885649],\n",
       "       [0.27746526],\n",
       "       [0.56702642],\n",
       "       [0.57056385],\n",
       "       [0.61996151],\n",
       "       [0.46217916],\n",
       "       [0.49157341],\n",
       "       [0.50188722],\n",
       "       [0.64545808],\n",
       "       [0.59339372],\n",
       "       [0.48453965],\n",
       "       [0.53860366],\n",
       "       [0.53007738],\n",
       "       [0.50814651],\n",
       "       [0.49841668],\n",
       "       [0.3966416 ],\n",
       "       [0.56467566],\n",
       "       [0.6950749 ],\n",
       "       [0.49287831],\n",
       "       [0.12090943],\n",
       "       [0.50211776],\n",
       "       [0.80794216],\n",
       "       [0.62661214],\n",
       "       [0.43394857],\n",
       "       [0.60017103],\n",
       "       [0.42223485],\n",
       "       [0.01538345],\n",
       "       [0.37927499],\n",
       "       [0.64539707],\n",
       "       [0.51838974],\n",
       "       [0.45869677],\n",
       "       [0.26804521],\n",
       "       [0.2650104 ],\n",
       "       [0.84054134],\n",
       "       [0.84401542],\n",
       "       [0.35515157],\n",
       "       [0.406246  ],\n",
       "       [0.40680623],\n",
       "       [0.55963883],\n",
       "       [0.2561583 ],\n",
       "       [0.77096325],\n",
       "       [0.55305289],\n",
       "       [0.5264948 ],\n",
       "       [0.3236476 ],\n",
       "       [0.55070832],\n",
       "       [0.54057623],\n",
       "       [0.45669016],\n",
       "       [0.41053254],\n",
       "       [0.33433524],\n",
       "       [0.39926954],\n",
       "       [0.5420261 ],\n",
       "       [0.57366948],\n",
       "       [0.43793831],\n",
       "       [0.46897896],\n",
       "       [0.61908354],\n",
       "       [0.55076214],\n",
       "       [0.48846357],\n",
       "       [0.61560519],\n",
       "       [0.56891394],\n",
       "       [0.30761974],\n",
       "       [0.56863909],\n",
       "       [0.46343171],\n",
       "       [0.50787179],\n",
       "       [0.61959897],\n",
       "       [0.59095889],\n",
       "       [0.45573492],\n",
       "       [0.49908055],\n",
       "       [0.4155271 ],\n",
       "       [0.45382041],\n",
       "       [0.41407692],\n",
       "       [0.45713635],\n",
       "       [0.30133556],\n",
       "       [0.47019791],\n",
       "       [0.42256447],\n",
       "       [0.14863766],\n",
       "       [0.50939895],\n",
       "       [0.38056275],\n",
       "       [0.59067519],\n",
       "       [0.05486922],\n",
       "       [0.4219045 ],\n",
       "       [0.59466257],\n",
       "       [0.23904164],\n",
       "       [0.72775122],\n",
       "       [0.63486085],\n",
       "       [0.43668833],\n",
       "       [0.74075381],\n",
       "       [0.42962519],\n",
       "       [0.61231998],\n",
       "       [0.46743215],\n",
       "       [0.68227386],\n",
       "       [0.19270023],\n",
       "       [0.34705263],\n",
       "       [0.31747576],\n",
       "       [0.72480623],\n",
       "       [0.51744133],\n",
       "       [0.36343414],\n",
       "       [0.36116341],\n",
       "       [0.26178477],\n",
       "       [0.64750739],\n",
       "       [0.56538749],\n",
       "       [0.70197943],\n",
       "       [0.68037083],\n",
       "       [0.60481233],\n",
       "       [0.29916352],\n",
       "       [0.81860421],\n",
       "       [0.47053558],\n",
       "       [0.45706646],\n",
       "       [0.47313925],\n",
       "       [0.35945319],\n",
       "       [0.46779854],\n",
       "       [0.46357095],\n",
       "       [0.71008706],\n",
       "       [0.59721993],\n",
       "       [0.64444254],\n",
       "       [0.53723155],\n",
       "       [0.78016463],\n",
       "       [0.39792327],\n",
       "       [0.61500514],\n",
       "       [0.49297475],\n",
       "       [0.59931944],\n",
       "       [0.4118826 ],\n",
       "       [0.43333307],\n",
       "       [0.43771229],\n",
       "       [0.33988067],\n",
       "       [0.55806565],\n",
       "       [0.54497514],\n",
       "       [0.42831636],\n",
       "       [0.344062  ],\n",
       "       [0.33380674],\n",
       "       [0.75865395],\n",
       "       [0.28768775],\n",
       "       [0.49885366],\n",
       "       [0.3893741 ],\n",
       "       [0.62895125],\n",
       "       [0.52080458],\n",
       "       [0.41555485],\n",
       "       [0.54839351],\n",
       "       [0.72143981],\n",
       "       [0.42155708],\n",
       "       [0.26493265],\n",
       "       [0.54372318],\n",
       "       [0.46981253],\n",
       "       [0.31409216],\n",
       "       [0.46999496],\n",
       "       [0.32165106],\n",
       "       [0.24646921],\n",
       "       [0.41088501],\n",
       "       [0.42863953],\n",
       "       [0.40442699],\n",
       "       [0.67782275],\n",
       "       [0.52751195],\n",
       "       [0.49091635],\n",
       "       [0.65623527],\n",
       "       [0.47160596],\n",
       "       [0.44900269],\n",
       "       [0.16412978],\n",
       "       [0.37237754],\n",
       "       [0.38187033],\n",
       "       [0.41101838],\n",
       "       [0.45107076],\n",
       "       [0.26605566],\n",
       "       [0.48907732],\n",
       "       [0.68212351],\n",
       "       [0.45217002],\n",
       "       [0.56409653],\n",
       "       [0.45444407],\n",
       "       [0.78232624],\n",
       "       [0.28242388],\n",
       "       [0.3059129 ],\n",
       "       [0.41919878],\n",
       "       [0.42720002],\n",
       "       [0.33251345],\n",
       "       [0.69078257],\n",
       "       [0.63925743],\n",
       "       [0.38927052],\n",
       "       [0.42988917],\n",
       "       [0.47856826],\n",
       "       [0.73050372],\n",
       "       [0.52648517],\n",
       "       [0.67013948],\n",
       "       [0.47569515],\n",
       "       [0.40675569],\n",
       "       [0.50997782],\n",
       "       [0.665203  ],\n",
       "       [0.58387492],\n",
       "       [0.57353959],\n",
       "       [0.31967601],\n",
       "       [0.56647918],\n",
       "       [0.52378641],\n",
       "       [0.38150608],\n",
       "       [0.48259225],\n",
       "       [0.44592089],\n",
       "       [0.60117759],\n",
       "       [0.50035241],\n",
       "       [0.55660425],\n",
       "       [0.51838459],\n",
       "       [0.6457801 ],\n",
       "       [0.33068236],\n",
       "       [0.46773647],\n",
       "       [0.64966102],\n",
       "       [0.54907635],\n",
       "       [0.48459001],\n",
       "       [0.50109082],\n",
       "       [0.40485272],\n",
       "       [0.5465529 ],\n",
       "       [0.5048829 ],\n",
       "       [0.53018684],\n",
       "       [0.66991531],\n",
       "       [0.46018938],\n",
       "       [0.73406295],\n",
       "       [0.39864179],\n",
       "       [0.53369389],\n",
       "       [0.66841888],\n",
       "       [0.51422109],\n",
       "       [0.26233016],\n",
       "       [0.52661271],\n",
       "       [0.28171911],\n",
       "       [0.5965593 ],\n",
       "       [0.46494647],\n",
       "       [0.61485077],\n",
       "       [0.49905236],\n",
       "       [0.52189581],\n",
       "       [0.69345654],\n",
       "       [0.47873651],\n",
       "       [0.58735466],\n",
       "       [0.53534616],\n",
       "       [0.56901367],\n",
       "       [0.47883335],\n",
       "       [0.49908428],\n",
       "       [0.5257114 ],\n",
       "       [0.53305254],\n",
       "       [0.66900144],\n",
       "       [0.47568675],\n",
       "       [0.61005611],\n",
       "       [0.3540794 ],\n",
       "       [0.72905982],\n",
       "       [0.80505204],\n",
       "       [0.31289637],\n",
       "       [0.523032  ],\n",
       "       [0.67567861],\n",
       "       [0.2138602 ],\n",
       "       [0.56450168],\n",
       "       [0.39568902],\n",
       "       [0.4845291 ],\n",
       "       [0.28298776],\n",
       "       [0.55421359],\n",
       "       [0.34170423],\n",
       "       [0.45531219],\n",
       "       [0.56811431],\n",
       "       [0.5972613 ],\n",
       "       [0.31338011],\n",
       "       [0.48730944],\n",
       "       [0.55352142],\n",
       "       [0.63399262],\n",
       "       [0.41795296],\n",
       "       [0.39544824],\n",
       "       [0.40771621],\n",
       "       [0.45521229],\n",
       "       [0.81533714],\n",
       "       [0.04981603],\n",
       "       [0.43026944],\n",
       "       [0.61562087],\n",
       "       [0.6268025 ],\n",
       "       [0.60728039],\n",
       "       [0.41838955],\n",
       "       [0.54964825],\n",
       "       [0.71104101],\n",
       "       [0.37903726],\n",
       "       [0.45118709],\n",
       "       [0.60183344],\n",
       "       [0.62002621],\n",
       "       [0.33560612],\n",
       "       [0.28757249],\n",
       "       [0.6825565 ],\n",
       "       [0.58368485],\n",
       "       [0.45880771],\n",
       "       [0.52693631],\n",
       "       [0.54380447],\n",
       "       [0.8715253 ],\n",
       "       [0.65554063],\n",
       "       [0.63167261],\n",
       "       [0.4352791 ],\n",
       "       [0.50332973],\n",
       "       [0.5343264 ],\n",
       "       [0.27381426],\n",
       "       [0.41053523],\n",
       "       [0.47531745],\n",
       "       [0.2911385 ],\n",
       "       [0.76110147],\n",
       "       [0.76406707],\n",
       "       [0.46931782],\n",
       "       [0.49948317],\n",
       "       [0.81820046],\n",
       "       [0.18438195],\n",
       "       [0.43693203],\n",
       "       [0.66298048],\n",
       "       [0.56960734],\n",
       "       [0.47179899],\n",
       "       [0.39556023],\n",
       "       [0.60375334],\n",
       "       [0.37628608],\n",
       "       [0.43511174],\n",
       "       [0.37719946],\n",
       "       [0.47698891],\n",
       "       [1.        ],\n",
       "       [0.72573208],\n",
       "       [0.71491172],\n",
       "       [0.43107389],\n",
       "       [0.69917902],\n",
       "       [0.61949147],\n",
       "       [0.58685749],\n",
       "       [0.71302854],\n",
       "       [0.19197549],\n",
       "       [0.4526464 ],\n",
       "       [0.62671101],\n",
       "       [0.38794277],\n",
       "       [0.48597146],\n",
       "       [0.3119255 ],\n",
       "       [0.3172683 ],\n",
       "       [0.31103807],\n",
       "       [0.51220225],\n",
       "       [0.22891454],\n",
       "       [0.43505067],\n",
       "       [0.60902435],\n",
       "       [0.43537481],\n",
       "       [0.51912329],\n",
       "       [0.30740999],\n",
       "       [0.42849005],\n",
       "       [0.36167369],\n",
       "       [0.20447774],\n",
       "       [0.27793926],\n",
       "       [0.70558126],\n",
       "       [0.58012487],\n",
       "       [0.3754806 ],\n",
       "       [0.52673735],\n",
       "       [0.32804493],\n",
       "       [0.56449711],\n",
       "       [0.56829414],\n",
       "       [0.45672673],\n",
       "       [0.21439436],\n",
       "       [0.49893066],\n",
       "       [0.72380375],\n",
       "       [0.47597174],\n",
       "       [0.53430602],\n",
       "       [0.69953618],\n",
       "       [0.40905353],\n",
       "       [0.42634618],\n",
       "       [0.64234067],\n",
       "       [0.4237175 ],\n",
       "       [0.54907212],\n",
       "       [0.5222931 ],\n",
       "       [0.30935321],\n",
       "       [0.37643596],\n",
       "       [0.56429808],\n",
       "       [0.56275857],\n",
       "       [0.39694511],\n",
       "       [0.53113416],\n",
       "       [0.61816285],\n",
       "       [0.29231919],\n",
       "       [0.73184274],\n",
       "       [0.4362737 ],\n",
       "       [0.41613807],\n",
       "       [0.67273869],\n",
       "       [0.76168793],\n",
       "       [0.65775822],\n",
       "       [0.3854533 ],\n",
       "       [0.61236387],\n",
       "       [0.58164331],\n",
       "       [0.39802597],\n",
       "       [0.54529522],\n",
       "       [0.28930803],\n",
       "       [0.72629843],\n",
       "       [0.38204913],\n",
       "       [0.68033622],\n",
       "       [0.60453629],\n",
       "       [0.37815253],\n",
       "       [0.47470876],\n",
       "       [0.65035196],\n",
       "       [0.24788603],\n",
       "       [0.63371047],\n",
       "       [0.54888405],\n",
       "       [0.48791067],\n",
       "       [0.46027877],\n",
       "       [0.76253593],\n",
       "       [0.30644588],\n",
       "       [0.79707352],\n",
       "       [0.40664378],\n",
       "       [0.47773971],\n",
       "       [0.19154167],\n",
       "       [0.86759109],\n",
       "       [0.48228989],\n",
       "       [0.41040247],\n",
       "       [0.30168732],\n",
       "       [0.77280198],\n",
       "       [0.50863303],\n",
       "       [0.49805458],\n",
       "       [0.14824364],\n",
       "       [0.57734658],\n",
       "       [0.7427002 ],\n",
       "       [0.4615406 ],\n",
       "       [0.52679628],\n",
       "       [0.39967091],\n",
       "       [0.34882593],\n",
       "       [0.3051776 ],\n",
       "       [0.60642838],\n",
       "       [0.30614901],\n",
       "       [0.4287247 ],\n",
       "       [0.41091372],\n",
       "       [0.44492764],\n",
       "       [0.74688327],\n",
       "       [0.5558489 ],\n",
       "       [0.43795845],\n",
       "       [0.571387  ],\n",
       "       [0.31561446],\n",
       "       [0.54534475],\n",
       "       [0.37724541],\n",
       "       [0.47754279],\n",
       "       [0.55657526],\n",
       "       [0.51540401],\n",
       "       [0.32481193],\n",
       "       [0.32687852],\n",
       "       [0.37288737],\n",
       "       [0.28900791],\n",
       "       [0.6538108 ],\n",
       "       [0.46675557],\n",
       "       [0.58506904],\n",
       "       [0.36510463],\n",
       "       [0.49152498],\n",
       "       [0.42443705],\n",
       "       [0.45278122],\n",
       "       [0.21316327],\n",
       "       [0.4747199 ],\n",
       "       [0.42114943],\n",
       "       [0.27669569],\n",
       "       [0.60775236],\n",
       "       [0.81194719],\n",
       "       [0.47759537],\n",
       "       [0.56687473],\n",
       "       [0.25779114],\n",
       "       [0.54746234],\n",
       "       [0.71808681],\n",
       "       [0.51086565],\n",
       "       [0.        ],\n",
       "       [0.52129727],\n",
       "       [0.33756622],\n",
       "       [0.56035434],\n",
       "       [0.51865585],\n",
       "       [0.43805795],\n",
       "       [0.3726359 ],\n",
       "       [0.2895323 ],\n",
       "       [0.41187412],\n",
       "       [0.499023  ],\n",
       "       [0.59220313],\n",
       "       [0.61366712],\n",
       "       [0.73808769],\n",
       "       [0.27413582],\n",
       "       [0.26177748],\n",
       "       [0.54900684],\n",
       "       [0.26992761],\n",
       "       [0.85449963],\n",
       "       [0.55003734],\n",
       "       [0.39949626],\n",
       "       [0.50001154],\n",
       "       [0.36815842],\n",
       "       [0.6502447 ],\n",
       "       [0.55469987],\n",
       "       [0.37779655],\n",
       "       [0.38757338],\n",
       "       [0.62128001],\n",
       "       [0.62041473],\n",
       "       [0.17564949],\n",
       "       [0.50726309],\n",
       "       [0.65320953],\n",
       "       [0.6691568 ],\n",
       "       [0.54146119],\n",
       "       [0.45760058],\n",
       "       [0.33173992],\n",
       "       [0.46457217],\n",
       "       [0.7118085 ],\n",
       "       [0.4556686 ],\n",
       "       [0.61669253],\n",
       "       [0.71996731],\n",
       "       [0.54592485],\n",
       "       [0.77729956],\n",
       "       [0.56199216],\n",
       "       [0.31678049],\n",
       "       [0.77672238],\n",
       "       [0.51326977],\n",
       "       [0.50855247]])"
      ]
     },
     "execution_count": 26,
     "metadata": {},
     "output_type": "execute_result"
    }
   ],
   "source": [
    "y_scaled = scalery.fit_transform(y)\n",
    "y_scaled"
   ]
  },
  {
   "cell_type": "code",
   "execution_count": 27,
   "metadata": {},
   "outputs": [
    {
     "data": {
      "text/plain": [
       "(500, 1)"
      ]
     },
     "execution_count": 27,
     "metadata": {},
     "output_type": "execute_result"
    }
   ],
   "source": [
    "\"\"\"De este modo tenemos la columna necesaria (antes teníamos un 0) para poder normalizar con el MinMaxScaler y su posterior fit_transform\"\"\"\n",
    "y_scaled.shape"
   ]
  },
  {
   "cell_type": "code",
   "execution_count": 28,
   "metadata": {},
   "outputs": [
    {
     "data": {
      "text/plain": [
       "numpy.ndarray"
      ]
     },
     "execution_count": 28,
     "metadata": {},
     "output_type": "execute_result"
    }
   ],
   "source": [
    "type(X_scaled)"
   ]
  },
  {
   "cell_type": "code",
   "execution_count": 29,
   "metadata": {},
   "outputs": [
    {
     "data": {
      "text/plain": [
       "array([[0.        , 0.4370344 , 0.53515116, 0.57836085, 0.22342985],\n",
       "       [0.        , 0.41741247, 0.58308616, 0.476028  , 0.52140195],\n",
       "       [1.        , 0.46305795, 0.42248189, 0.55579674, 0.63108896],\n",
       "       ...,\n",
       "       [1.        , 0.67886994, 0.61110973, 0.52822145, 0.75972584],\n",
       "       [1.        , 0.78321017, 0.37264988, 0.69914746, 0.3243129 ],\n",
       "       [1.        , 0.53462305, 0.51713347, 0.46690159, 0.45198622]])"
      ]
     },
     "execution_count": 29,
     "metadata": {},
     "output_type": "execute_result"
    }
   ],
   "source": [
    "X_scaled"
   ]
  },
  {
   "cell_type": "markdown",
   "metadata": {},
   "source": [
    "# Split the model into train and test data"
   ]
  },
  {
   "cell_type": "code",
   "execution_count": 30,
   "metadata": {},
   "outputs": [
    {
     "data": {
      "text/plain": [
       "'Se divide la data en train y test'"
      ]
     },
     "execution_count": 30,
     "metadata": {},
     "output_type": "execute_result"
    }
   ],
   "source": [
    "\"\"\"Se divide la data en train y test\"\"\""
   ]
  },
  {
   "cell_type": "code",
   "execution_count": 31,
   "metadata": {},
   "outputs": [],
   "source": [
    "from sklearn.model_selection import train_test_split\n",
    "\n",
    "X_train, X_test, y_train, y_test = train_test_split(X_scaled,y_scaled)"
   ]
  },
  {
   "cell_type": "code",
   "execution_count": 32,
   "metadata": {
    "scrolled": true
   },
   "outputs": [
    {
     "data": {
      "text/plain": [
       "(375, 5)"
      ]
     },
     "execution_count": 32,
     "metadata": {},
     "output_type": "execute_result"
    }
   ],
   "source": [
    "X_train.shape"
   ]
  },
  {
   "cell_type": "code",
   "execution_count": 33,
   "metadata": {},
   "outputs": [
    {
     "data": {
      "text/plain": [
       "(125, 5)"
      ]
     },
     "execution_count": 33,
     "metadata": {},
     "output_type": "execute_result"
    }
   ],
   "source": [
    "X_test.shape"
   ]
  },
  {
   "cell_type": "code",
   "execution_count": 34,
   "metadata": {},
   "outputs": [
    {
     "data": {
      "text/plain": [
       "(375, 1)"
      ]
     },
     "execution_count": 34,
     "metadata": {},
     "output_type": "execute_result"
    }
   ],
   "source": [
    "y_train.shape"
   ]
  },
  {
   "cell_type": "code",
   "execution_count": 35,
   "metadata": {},
   "outputs": [
    {
     "data": {
      "text/plain": [
       "(125, 1)"
      ]
     },
     "execution_count": 35,
     "metadata": {},
     "output_type": "execute_result"
    }
   ],
   "source": [
    "y_test.shape"
   ]
  },
  {
   "cell_type": "markdown",
   "metadata": {},
   "source": [
    "# Creación modelo"
   ]
  },
  {
   "cell_type": "code",
   "execution_count": 36,
   "metadata": {},
   "outputs": [
    {
     "data": {
      "text/plain": [
       "'Creando el modelo con tensorflow keras, con ciertas neuronas y capas, bajo optimizadores y loss determinadosde la mano de conjuntos de entrenamiento específicos'"
      ]
     },
     "execution_count": 36,
     "metadata": {},
     "output_type": "execute_result"
    }
   ],
   "source": [
    "\"\"\"Creando el modelo con tensorflow keras, con ciertas neuronas y capas, bajo optimizadores y loss determinados\\\n",
    "de la mano de conjuntos de entrenamiento específicos\"\"\""
   ]
  },
  {
   "cell_type": "code",
   "execution_count": 37,
   "metadata": {
    "scrolled": true
   },
   "outputs": [],
   "source": [
    "import tensorflow.keras\n",
    "\n",
    "from keras.models import Sequential\n",
    "from keras.layers import Dense\n",
    "\n",
    "\n",
    "model = Sequential()\n",
    "model.add(Dense(25, input_dim=5, activation='relu'))\n",
    "model.add(Dense(25, activation = 'relu'))\n",
    "model.add(Dense(1, activation = 'linear'))"
   ]
  },
  {
   "cell_type": "code",
   "execution_count": 38,
   "metadata": {},
   "outputs": [
    {
     "name": "stdout",
     "output_type": "stream",
     "text": [
      "Model: \"sequential\"\n",
      "_________________________________________________________________\n",
      " Layer (type)                Output Shape              Param #   \n",
      "=================================================================\n",
      " dense (Dense)               (None, 25)                150       \n",
      "                                                                 \n",
      " dense_1 (Dense)             (None, 25)                650       \n",
      "                                                                 \n",
      " dense_2 (Dense)             (None, 1)                 26        \n",
      "                                                                 \n",
      "=================================================================\n",
      "Total params: 826\n",
      "Trainable params: 826\n",
      "Non-trainable params: 0\n",
      "_________________________________________________________________\n"
     ]
    }
   ],
   "source": [
    "model.summary()"
   ]
  },
  {
   "cell_type": "code",
   "execution_count": 39,
   "metadata": {},
   "outputs": [],
   "source": [
    "model.compile(optimizer = 'adam', loss = 'mean_squared_error')"
   ]
  },
  {
   "cell_type": "code",
   "execution_count": 40,
   "metadata": {},
   "outputs": [
    {
     "name": "stdout",
     "output_type": "stream",
     "text": [
      "Epoch 1/20\n",
      "12/12 [==============================] - 1s 16ms/step - loss: 0.0162 - val_loss: 0.0158\n",
      "Epoch 2/20\n",
      "12/12 [==============================] - 0s 5ms/step - loss: 0.0108 - val_loss: 0.0136\n",
      "Epoch 3/20\n",
      "12/12 [==============================] - 0s 5ms/step - loss: 0.0083 - val_loss: 0.0101\n",
      "Epoch 4/20\n",
      "12/12 [==============================] - 0s 5ms/step - loss: 0.0063 - val_loss: 0.0076\n",
      "Epoch 5/20\n",
      "12/12 [==============================] - 0s 5ms/step - loss: 0.0047 - val_loss: 0.0073\n",
      "Epoch 6/20\n",
      "12/12 [==============================] - 0s 5ms/step - loss: 0.0036 - val_loss: 0.0049\n",
      "Epoch 7/20\n",
      "12/12 [==============================] - 0s 6ms/step - loss: 0.0028 - val_loss: 0.0039\n",
      "Epoch 8/20\n",
      "12/12 [==============================] - 0s 5ms/step - loss: 0.0021 - val_loss: 0.0032\n",
      "Epoch 9/20\n",
      "12/12 [==============================] - 0s 5ms/step - loss: 0.0016 - val_loss: 0.0027\n",
      "Epoch 10/20\n",
      "12/12 [==============================] - 0s 5ms/step - loss: 0.0013 - val_loss: 0.0024\n",
      "Epoch 11/20\n",
      "12/12 [==============================] - 0s 4ms/step - loss: 0.0011 - val_loss: 0.0019\n",
      "Epoch 12/20\n",
      "12/12 [==============================] - 0s 5ms/step - loss: 8.6533e-04 - val_loss: 0.0016\n",
      "Epoch 13/20\n",
      "12/12 [==============================] - 0s 4ms/step - loss: 7.0698e-04 - val_loss: 0.0014\n",
      "Epoch 14/20\n",
      "12/12 [==============================] - 0s 4ms/step - loss: 5.5732e-04 - val_loss: 0.0012\n",
      "Epoch 15/20\n",
      "12/12 [==============================] - 0s 5ms/step - loss: 4.7084e-04 - val_loss: 0.0011\n",
      "Epoch 16/20\n",
      "12/12 [==============================] - 0s 5ms/step - loss: 3.7585e-04 - val_loss: 9.5058e-04\n",
      "Epoch 17/20\n",
      "12/12 [==============================] - 0s 5ms/step - loss: 3.4766e-04 - val_loss: 8.2443e-04\n",
      "Epoch 18/20\n",
      "12/12 [==============================] - 0s 5ms/step - loss: 2.6654e-04 - val_loss: 7.2215e-04\n",
      "Epoch 19/20\n",
      "12/12 [==============================] - 0s 5ms/step - loss: 2.3601e-04 - val_loss: 6.4479e-04\n",
      "Epoch 20/20\n",
      "12/12 [==============================] - 0s 5ms/step - loss: 1.8595e-04 - val_loss: 5.9076e-04\n"
     ]
    }
   ],
   "source": [
    "epochs_hist = model.fit(X_train, y_train, epochs=20, batch_size=25, verbose = 1, validation_split = 0.2)"
   ]
  },
  {
   "cell_type": "markdown",
   "metadata": {},
   "source": [
    "# Evaluating the model"
   ]
  },
  {
   "cell_type": "code",
   "execution_count": 41,
   "metadata": {},
   "outputs": [
    {
     "data": {
      "text/plain": [
       "'Evaluando el modelo'"
      ]
     },
     "execution_count": 41,
     "metadata": {},
     "output_type": "execute_result"
    }
   ],
   "source": [
    "\"\"\"Evaluando el modelo\"\"\""
   ]
  },
  {
   "cell_type": "code",
   "execution_count": 42,
   "metadata": {},
   "outputs": [
    {
     "data": {
      "text/plain": [
       "dict_keys(['loss', 'val_loss'])"
      ]
     },
     "execution_count": 42,
     "metadata": {},
     "output_type": "execute_result"
    }
   ],
   "source": [
    "epochs_hist.history.keys()"
   ]
  },
  {
   "cell_type": "code",
   "execution_count": 43,
   "metadata": {
    "scrolled": true
   },
   "outputs": [
    {
     "data": {
      "text/plain": [
       "<matplotlib.legend.Legend at 0x7f547074fed0>"
      ]
     },
     "execution_count": 43,
     "metadata": {},
     "output_type": "execute_result"
    },
    {
     "data": {
      "image/png": "[encoded data removed]",
      "text/plain": [
       "<Figure size 432x288 with 1 Axes>"
      ]
     },
     "metadata": {
      "needs_background": "light"
     },
     "output_type": "display_data"
    }
   ],
   "source": [
    "plt.plot(epochs_hist.history['loss'])\n",
    "plt.plot(epochs_hist.history['val_loss'])\n",
    "plt.title('Model Loss Progress During the Training with 20 epochs')\n",
    "plt.xlabel('Epochs number')\n",
    "plt.ylabel('Training and validation Loss')\n",
    "plt.legend(['Training LOss','Validation Loss'])\n"
   ]
  },
  {
   "cell_type": "code",
   "execution_count": 44,
   "metadata": {
    "scrolled": true
   },
   "outputs": [
    {
     "name": "stdout",
     "output_type": "stream",
     "text": [
      "Epoch 1/10\n",
      "12/12 [==============================] - 0s 14ms/step - loss: 0.2960 - val_loss: 0.1167\n",
      "Epoch 2/10\n",
      "12/12 [==============================] - 0s 5ms/step - loss: 0.0807 - val_loss: 0.0257\n",
      "Epoch 3/10\n",
      "12/12 [==============================] - 0s 5ms/step - loss: 0.0209 - val_loss: 0.0311\n",
      "Epoch 4/10\n",
      "12/12 [==============================] - 0s 5ms/step - loss: 0.0189 - val_loss: 0.0284\n",
      "Epoch 5/10\n",
      "12/12 [==============================] - 0s 4ms/step - loss: 0.0142 - val_loss: 0.0178\n",
      "Epoch 6/10\n",
      "12/12 [==============================] - 0s 4ms/step - loss: 0.0115 - val_loss: 0.0146\n",
      "Epoch 7/10\n",
      "12/12 [==============================] - 0s 6ms/step - loss: 0.0097 - val_loss: 0.0132\n",
      "Epoch 8/10\n",
      "12/12 [==============================] - 0s 5ms/step - loss: 0.0083 - val_loss: 0.0108\n",
      "Epoch 9/10\n",
      "12/12 [==============================] - 0s 5ms/step - loss: 0.0069 - val_loss: 0.0085\n",
      "Epoch 10/10\n",
      "12/12 [==============================] - 0s 4ms/step - loss: 0.0058 - val_loss: 0.0072\n"
     ]
    }
   ],
   "source": [
    "model2 = Sequential()\n",
    "model2.add(Dense(25, input_dim=5, activation='relu'))\n",
    "model2.add(Dense(25, activation = 'relu'))\n",
    "model2.add(Dense(1, activation = 'linear'))\n",
    "\n",
    "model2.compile(optimizer='adam', loss='mean_squared_error')\n",
    "epoch_hist2 = model2.fit( X_train, y_train, epochs=10, verbose=1,  batch_size=25 ,validation_split=0.2)\n",
    "\n"
   ]
  },
  {
   "cell_type": "code",
   "execution_count": 45,
   "metadata": {},
   "outputs": [
    {
     "data": {
      "text/plain": [
       "dict_keys(['loss', 'val_loss'])"
      ]
     },
     "execution_count": 45,
     "metadata": {},
     "output_type": "execute_result"
    }
   ],
   "source": [
    "epoch_hist2.history.keys()"
   ]
  },
  {
   "cell_type": "code",
   "execution_count": 46,
   "metadata": {
    "scrolled": false
   },
   "outputs": [
    {
     "data": {
      "text/plain": [
       "<matplotlib.legend.Legend at 0x7f54716f0190>"
      ]
     },
     "execution_count": 46,
     "metadata": {},
     "output_type": "execute_result"
    },
    {
     "data": {
      "image/png": "[encoded data removed]",
      "text/plain": [
       "<Figure size 432x288 with 1 Axes>"
      ]
     },
     "metadata": {
      "needs_background": "light"
     },
     "output_type": "display_data"
    }
   ],
   "source": [
    "plt.plot(epoch_hist2.history['loss'])\n",
    "plt.plot(epoch_hist2.history['val_loss'])\n",
    "plt.title('Model Loss During Training with 10 epochs as a challenge')\n",
    "plt.xlabel('Epochs number')\n",
    "plt.ylabel('Training Loss and Validation Loss')\n",
    "plt.legend(['Training Loss',' Validation Loss'])\n"
   ]
  },
  {
   "cell_type": "markdown",
   "metadata": {},
   "source": [
    "# Prediction"
   ]
  },
  {
   "cell_type": "code",
   "execution_count": 47,
   "metadata": {},
   "outputs": [
    {
     "name": "stdout",
     "output_type": "stream",
     "text": [
      "El costo que se ha predecido para la persona que tiene Género: 1, Edad: 50,     Salario Anual: 50000, Deuda de tarjeta de Cŕedito: 10000,     Valor Neto: 600000 \n",
      "es: [[261818.17]]\n",
      "\n",
      "\n",
      "El costo que se ha predecido para la persona que tiene Género: 1, Edad: 25,     Salario Anual: 10000, Deuda de tarjeta de Cŕedito: 6000,     Valor Neto: 800000 \n",
      "es: [[328320.56]]\n",
      "\n",
      "\n",
      "El costo que se ha predecido para la persona que tiene Género: 1, Edad: 38,     Salario Anual: 20000, Deuda de tarjeta de Cŕedito: 80000,     Valor Neto: 500000 \n",
      "es: [[229421.02]]\n",
      "\n",
      "\n"
     ]
    }
   ],
   "source": [
    "\"\"\"Etapa Final de Predicción\"\"\"\n",
    "\n",
    "# Gender, Age, Annual Salary, Credit Card Debt, Net Worth\n",
    "prediction_list = []\n",
    "arrays_X_test_predict = np.array([[1,50,50000,10000,600000],[1,25,10000,6000,800000],[1,38,20000,80000,500000]])\n",
    "\n",
    "for i in range(len(arrays_X_test_predict)):\n",
    "    prediction_list.append(model.predict(arrays_X_test_predict[[i]]))\n",
    "\n",
    "#     print('El costo que se ha predecido para {} es: {}'.format(arrays_X_test_predict[[i]],prediction_list[i]))\n",
    "    print('El costo que se ha predecido para la persona que tiene Género: {}, Edad: {}, \\\n",
    "    Salario Anual: {}, Deuda de tarjeta de Cŕedito: {}, \\\n",
    "    Valor Neto: {} \\nes: {}'.format(arrays_X_test_predict[i][0],\\\n",
    "    arrays_X_test_predict[i][1],arrays_X_test_predict[i][2],\\\n",
    "    arrays_X_test_predict[i][3],arrays_X_test_predict[i][4],prediction_list[i]))\n",
    "    print(\"\\n\")\n",
    "    \n",
    "    \n",
    "# print('\\nLa lista de predicciones es: {}'.format(prediction_list))"
   ]
  }
 ],
 "metadata": {
  "kernelspec": {
   "display_name": "Python 3",
   "language": "python",
   "name": "python3"
  },
  "language_info": {
   "codemirror_mode": {
    "name": "ipython",
    "version": 3
   },
   "file_extension": ".py",
   "mimetype": "text/x-python",
   "name": "python",
   "nbconvert_exporter": "python",
   "pygments_lexer": "ipython3",
   "version": "3.7.4"
  }
 },
 "nbformat": 4,
 "nbformat_minor": 2
}
